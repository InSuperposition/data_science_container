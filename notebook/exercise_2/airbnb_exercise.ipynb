{
 "cells": [
  {
   "cell_type": "markdown",
   "metadata": {
    "id": "O0HI2XzlYo28"
   },
   "source": [
    "# 🏠 Homework: Predicting Airbnb Listing Prices\n",
    "\n",
    "**Your mission:** Clean and analyze a real-world Airbnb dataset, and build a model to predict listing prices.\n",
    "\n",
    "This dataset contains dirty, messy, and surprising data — just like real life. Your job is to:\n",
    "\n",
    "1. **Explore and clean the data**\n",
    "2. **Engineer meaningful features**\n",
    "3. **Split into train/test sets**\n",
    "4. **Build and evaluate a linear regression model**\n",
    "5. **Interpret your results**\n"
   ]
  },
  {
   "cell_type": "markdown",
   "metadata": {
    "id": "PWdqz8XqYo29"
   },
   "source": [
    "## 🔍 Part A: Load and Explore\n",
    "\n",
    "1. Load the CSV file `airbnb_dirty_mock.csv`\n",
    "2. View column names, data types, and general structure\n",
    "3. Plot a histogram of `price`\n",
    "4. What issues or red flags do you immediately notice?"
   ]
  },
  {
   "cell_type": "code",
   "execution_count": 25,
   "metadata": {
    "colab": {
     "base_uri": "https://localhost:8080/",
     "height": 313
    },
    "id": "rLau7fKdYo2-",
    "outputId": "566cd53f-f900-4ca7-9cf7-870a8c4b62ba"
   },
   "outputs": [
    {
     "name": "stdout",
     "output_type": "stream",
     "text": [
      "NumPy version: 2.3.1\n",
      "Pandas version: 2.3.1\n"
     ]
    }
   ],
   "source": [
    "import os\n",
    "import time\n",
    "import matplotlib.pyplot as plt\n",
    "import pandas as pd\n",
    "import pgeocode\n",
    "import numpy as np\n",
    "from sklearn.model_selection import train_test_split, cross_validate\n",
    "\n",
    "from sklearn.linear_model import LinearRegression\n",
    "from sklearn.metrics import r2_score, root_mean_squared_error\n",
    "from sklearn.compose import ColumnTransformer\n",
    "from sklearn.pipeline import Pipeline\n",
    "from sklearn.preprocessing import OneHotEncoder\n",
    "\n",
    "print(f\"NumPy version: {np.__version__}\")\n",
    "print(f\"Pandas version: {pd.__version__}\")\n",
    "\n",
    "# This is to avoid the SettingWithCopyWarning in pandas\n",
    "# https://pandas.pydata.org/pandas-docs/stable/user_guide/indexing.html#returning-a-view-versus-a-copy\n",
    "pd.options.mode.copy_on_write = True"
   ]
  },
  {
   "cell_type": "code",
   "execution_count": 26,
   "metadata": {},
   "outputs": [
    {
     "data": {
      "application/vnd.microsoft.datawrangler.viewer.v0+json": {
       "columns": [
        {
         "name": "index",
         "rawType": "int64",
         "type": "integer"
        },
        {
         "name": "id",
         "rawType": "int64",
         "type": "integer"
        },
        {
         "name": "name",
         "rawType": "object",
         "type": "string"
        },
        {
         "name": "host_name",
         "rawType": "object",
         "type": "string"
        },
        {
         "name": "neighbourhood_group",
         "rawType": "object",
         "type": "string"
        },
        {
         "name": "room_type",
         "rawType": "object",
         "type": "string"
        },
        {
         "name": "price",
         "rawType": "object",
         "type": "string"
        },
        {
         "name": "minimum_nights",
         "rawType": "int64",
         "type": "integer"
        },
        {
         "name": "number_of_reviews",
         "rawType": "int64",
         "type": "integer"
        },
        {
         "name": "last_review",
         "rawType": "object",
         "type": "unknown"
        },
        {
         "name": "reviews_per_month",
         "rawType": "object",
         "type": "string"
        },
        {
         "name": "host_phone",
         "rawType": "object",
         "type": "unknown"
        },
        {
         "name": "has_wifi",
         "rawType": "object",
         "type": "string"
        }
       ],
       "ref": "91ade345-9649-4650-9b76-a3982ca72943",
       "rows": [
        [
         "0",
         "1001",
         "Listing 0",
         "Host0",
         "10001",
         "SHARED ROOM ",
         "142",
         "3",
         "64",
         "2022-11-26 00:00:00",
         "1.71",
         "123-456-7890",
         "f"
        ],
        [
         "1",
         "1002",
         "Listing 1",
         "Host1",
         "11231",
         "ENTIRE HOME/APT ",
         "31",
         "17",
         "7",
         "2022-03-15 00:00:00",
         "1.55",
         null,
         "t"
        ],
        [
         "2",
         "1003",
         "Listing 2",
         "Host2",
         "10009",
         "PRIVATE ROOM ",
         "159",
         "1",
         "143",
         "2022-04-26 00:00:00",
         "3.13",
         null,
         "f"
        ],
        [
         "3",
         "1004",
         "Listing 3",
         "Host3",
         "11211",
         "ENTIRE HOME/APT ",
         "249",
         "16",
         "141",
         "2022-07-26 00:00:00",
         "1.43",
         null,
         "f"
        ],
        [
         "4",
         "1005",
         "Listing 4",
         "Host4",
         "11101",
         "SHARED ROOM ",
         "83",
         "12",
         "114",
         "2021-12-28 00:00:00",
         "3.73",
         null,
         "f"
        ],
        [
         "5",
         "1006",
         "Listing 5",
         "Host5",
         "10002",
         "SHARED ROOM ",
         "$150",
         "27",
         "142",
         "2021-10-28 00:00:00",
         "3.45",
         null,
         "f"
        ],
        [
         "6",
         "1007",
         "Listing 6",
         "Host6",
         "Queens",
         "PRIVATE ROOM ",
         "253",
         "19",
         "91",
         "2022-09-16 00:00:00",
         "1.77",
         null,
         "f"
        ],
        [
         "7",
         "1008",
         "Listing 7",
         "Host7",
         "Queens",
         "ENTIRE HOME/APT ",
         "254",
         "22",
         "97",
         "2022-10-21 00:00:00",
         "3.03",
         null,
         "f"
        ],
        [
         "8",
         "1009",
         "Listing 8",
         "Host8",
         "Queens",
         "SHARED ROOM ",
         "155",
         "23",
         "65",
         "2021-06-28 00:00:00",
         "3.04",
         null,
         "f"
        ],
        [
         "9",
         "1010",
         "Listing 9",
         "Host9",
         "Staten Island",
         "PRIVATE ROOM ",
         "159",
         "22",
         "31",
         "2022-07-10 00:00:00",
         "0.5",
         null,
         "f"
        ],
        [
         "10",
         "1011",
         "Listing 10",
         "Host10",
         "Bronx",
         "SHARED ROOM ",
         "100.0 USD",
         "14",
         "190",
         "2023-06-09 00:00:00",
         "3.62",
         "123-456-7890",
         "f"
        ],
        [
         "11",
         "1012",
         "Listing 11",
         "Host11",
         "Queens",
         "Shared room",
         "99999",
         "6",
         "85",
         "2021-05-31 00:00:00",
         "2.07",
         null,
         "f"
        ],
        [
         "12",
         "1013",
         "Listing 12",
         "Host12",
         "Staten Island",
         "Entire home/apt",
         "247",
         "6",
         "50",
         "2022-01-26 00:00:00",
         "3.32",
         null,
         "f"
        ],
        [
         "13",
         "1014",
         "Listing 13",
         "Host13",
         "Brooklyn",
         "Shared room",
         "189",
         "13",
         "152",
         "2021-06-04 00:00:00",
         "1.35",
         null,
         "t"
        ],
        [
         "14",
         "1015",
         "Listing 14",
         "Host14",
         "Bronx",
         "Entire home/apt",
         "227",
         "19",
         "185",
         "2021-03-17 00:00:00",
         "3.59",
         null,
         "t"
        ],
        [
         "15",
         "1016",
         "Listing 15",
         "Host15",
         "Brooklyn",
         "Shared room",
         "276",
         "22",
         "62",
         "2023-03-24 00:00:00",
         "1.62",
         null,
         "f"
        ],
        [
         "16",
         "1017",
         "Listing 16",
         "Host16",
         "Bronx",
         "Private room",
         "353",
         "8",
         "189",
         "2021-04-21 00:00:00",
         "0.14",
         null,
         "f"
        ],
        [
         "17",
         "1018",
         "Listing 17",
         "Host17",
         "Staten Island",
         "Shared room",
         "232",
         "27",
         "124",
         "2023-01-03 00:00:00",
         "3.63",
         null,
         "t"
        ],
        [
         "18",
         "1019",
         "Listing 18",
         "Host18",
         "Manhattan",
         "Entire home/apt",
         "213",
         "27",
         "149",
         "2022-11-21 00:00:00",
         "0.46",
         null,
         "f"
        ],
        [
         "19",
         "1020",
         "Listing 19",
         "Host19",
         "Bronx",
         "Entire home/apt",
         "152",
         "2",
         "57",
         "2021-01-07 00:00:00",
         "1.35",
         null,
         "t"
        ],
        [
         "20",
         "1021",
         "Listing 20",
         "Host20",
         "Brooklyn",
         "Private room",
         "284",
         "21",
         "57",
         "13/31/2023",
         "3.81",
         "123-456-7890",
         "t"
        ],
        [
         "21",
         "1022",
         "Listing 21",
         "Host21",
         "Staten Island",
         "Shared room",
         "323",
         "1",
         "85",
         null,
         "3.81",
         null,
         "t"
        ],
        [
         "22",
         "1023",
         "Listing 22",
         "Host22",
         "Bronx",
         "Shared room",
         "309",
         "28",
         "48",
         "2015-01-01",
         "2.34",
         null,
         "t"
        ],
        [
         "23",
         "1024",
         "Listing 23",
         "Host23",
         "Manhattan",
         "Private room",
         "354",
         "15",
         "179",
         "2021-11-01 00:00:00",
         "2.56",
         null,
         "t"
        ],
        [
         "24",
         "1025",
         "Listing 24",
         "Host24",
         "Manhattan",
         "Shared room",
         "127",
         "1",
         "169",
         "2021-05-24 00:00:00",
         "1.85",
         null,
         "f"
        ],
        [
         "25",
         "1026",
         "Listing 25",
         "Host25",
         "Queens",
         "Shared room",
         "227",
         "5",
         "69",
         "2022-08-11 00:00:00",
         "1.24",
         null,
         "t"
        ],
        [
         "26",
         "1027",
         "Listing 26",
         "Host26",
         "Queens",
         "Entire home/apt",
         "269",
         "28",
         "14",
         "2022-02-01 00:00:00",
         "1.38",
         null,
         "f"
        ],
        [
         "27",
         "1028",
         "Listing 27",
         "Host27",
         "Brooklyn",
         "Shared room",
         "173",
         "29",
         "53",
         "2023-06-16 00:00:00",
         "2.72",
         null,
         "f"
        ],
        [
         "28",
         "1029",
         "Listing 28",
         "Host28",
         "Bronx",
         "Shared room",
         "126",
         "16",
         "187",
         "2021-05-01 00:00:00",
         "3.03",
         null,
         "t"
        ],
        [
         "29",
         "1030",
         "Listing 29",
         "Host29",
         "Bronx",
         "Private room",
         "230",
         "19",
         "100",
         "2022-07-31 00:00:00",
         "3.19",
         null,
         "t"
        ],
        [
         "30",
         "1031",
         "Listing 30",
         "Host30",
         "Queens",
         "Private room",
         "153",
         "4",
         "7",
         "2021-06-03 00:00:00",
         "many",
         "123-456-7890",
         "f"
        ],
        [
         "31",
         "1032",
         "Listing 31",
         "Host31",
         "Bronx",
         "Entire home/apt",
         "216",
         "3",
         "52",
         "2022-10-17 00:00:00",
         "0.46",
         null,
         "t"
        ],
        [
         "32",
         "1033",
         "Listing 32",
         "Host32",
         "Bronx",
         "Shared room",
         "355",
         "17",
         "59",
         "2022-02-20 00:00:00",
         "2.03",
         null,
         "t"
        ],
        [
         "33",
         "1034",
         "Listing 33",
         "Host33",
         "Manhattan",
         "Shared room",
         "378",
         "17",
         "107",
         "2020-10-17 00:00:00",
         "0.32",
         null,
         "f"
        ],
        [
         "34",
         "1035",
         "Listing 34",
         "Host34",
         "Queens",
         "Shared room",
         "288",
         "12",
         "4",
         "2021-01-17 00:00:00",
         "2.24",
         null,
         "f"
        ],
        [
         "35",
         "1036",
         "Listing 35",
         "Host35",
         "Staten Island",
         "Entire home/apt",
         "177",
         "28",
         "102",
         "2023-01-23 00:00:00",
         "1.82",
         null,
         "t"
        ],
        [
         "36",
         "1037",
         "Listing 36",
         "Host36",
         "Queens",
         "Entire home/apt",
         "281",
         "29",
         "195",
         "2022-03-14 00:00:00",
         "3.56",
         null,
         "f"
        ],
        [
         "37",
         "1038",
         "Listing 37",
         "Host37",
         "Staten Island",
         "Private room",
         "375",
         "14",
         "5",
         "2021-03-02 00:00:00",
         "1.47",
         null,
         "t"
        ],
        [
         "38",
         "1039",
         "Listing 38",
         "Host38",
         "Manhattan",
         "Entire home/apt",
         "176",
         "21",
         "108",
         "2021-09-06 00:00:00",
         "0.56",
         null,
         "t"
        ],
        [
         "39",
         "1040",
         "Listing 39",
         "Host39",
         "Brooklyn",
         "Shared room",
         "177",
         "6",
         "115",
         "2021-01-05 00:00:00",
         "0.66",
         null,
         "t"
        ],
        [
         "40",
         "1041",
         "   ",
         "Host40",
         "Bronx",
         "Shared room",
         "381",
         "3",
         "93",
         "2021-08-11 00:00:00",
         "3.07",
         "123-456-7890",
         "f"
        ],
        [
         "41",
         "1042",
         "   No name listing   ",
         "Host41",
         "Manhattan",
         "Entire home/apt",
         "228",
         "28",
         "46",
         "2021-08-26 00:00:00",
         "2.51",
         null,
         "f"
        ],
        [
         "42",
         "1043",
         "Listing 42",
         "Host42",
         "Bronx",
         "Shared room",
         "337",
         "9",
         "98",
         "2022-06-17 00:00:00",
         "0.49",
         null,
         "f"
        ],
        [
         "43",
         "1044",
         "Listing 43",
         "Host43",
         "Brooklyn",
         "Shared room",
         "157",
         "5",
         "54",
         "2022-01-03 00:00:00",
         "0.43",
         null,
         "f"
        ],
        [
         "44",
         "1045",
         "Listing 44",
         "Host44",
         "Brooklyn",
         "Entire home/apt",
         "68",
         "24",
         "167",
         "2020-12-15 00:00:00",
         "2.83",
         null,
         "f"
        ],
        [
         "45",
         "1046",
         "Listing 45",
         "Host45",
         "Manhattan",
         "Entire home/apt",
         "367",
         "29",
         "51",
         "2020-11-17 00:00:00",
         "0.38",
         null,
         "t"
        ],
        [
         "46",
         "1047",
         "Listing 46",
         "Host46",
         "Brooklyn",
         "Shared room",
         "389",
         "17",
         "143",
         "2021-08-10 00:00:00",
         "3.31",
         null,
         "t"
        ],
        [
         "47",
         "1048",
         "Listing 47",
         "Host47",
         "Staten Island",
         "Shared room",
         "158",
         "14",
         "12",
         "2022-05-01 00:00:00",
         "2.85",
         null,
         "t"
        ],
        [
         "48",
         "1049",
         "Listing 48",
         "Host48",
         "Brooklyn",
         "Shared room",
         "296",
         "21",
         "113",
         "2021-10-27 00:00:00",
         "0.42",
         null,
         "t"
        ],
        [
         "49",
         "1050",
         "Listing 49",
         "Host49",
         "Bronx",
         "Private room",
         "180",
         "3",
         "123",
         "2022-10-07 00:00:00",
         "0.43",
         null,
         "f"
        ]
       ],
       "shape": {
        "columns": 12,
        "rows": 102
       }
      },
      "text/html": [
       "<div>\n",
       "<style scoped>\n",
       "    .dataframe tbody tr th:only-of-type {\n",
       "        vertical-align: middle;\n",
       "    }\n",
       "\n",
       "    .dataframe tbody tr th {\n",
       "        vertical-align: top;\n",
       "    }\n",
       "\n",
       "    .dataframe thead th {\n",
       "        text-align: right;\n",
       "    }\n",
       "</style>\n",
       "<table border=\"1\" class=\"dataframe\">\n",
       "  <thead>\n",
       "    <tr style=\"text-align: right;\">\n",
       "      <th></th>\n",
       "      <th>id</th>\n",
       "      <th>name</th>\n",
       "      <th>host_name</th>\n",
       "      <th>neighbourhood_group</th>\n",
       "      <th>room_type</th>\n",
       "      <th>price</th>\n",
       "      <th>minimum_nights</th>\n",
       "      <th>number_of_reviews</th>\n",
       "      <th>last_review</th>\n",
       "      <th>reviews_per_month</th>\n",
       "      <th>host_phone</th>\n",
       "      <th>has_wifi</th>\n",
       "    </tr>\n",
       "  </thead>\n",
       "  <tbody>\n",
       "    <tr>\n",
       "      <th>0</th>\n",
       "      <td>1001</td>\n",
       "      <td>Listing 0</td>\n",
       "      <td>Host0</td>\n",
       "      <td>10001</td>\n",
       "      <td>SHARED ROOM</td>\n",
       "      <td>142</td>\n",
       "      <td>3</td>\n",
       "      <td>64</td>\n",
       "      <td>2022-11-26 00:00:00</td>\n",
       "      <td>1.71</td>\n",
       "      <td>123-456-7890</td>\n",
       "      <td>f</td>\n",
       "    </tr>\n",
       "    <tr>\n",
       "      <th>1</th>\n",
       "      <td>1002</td>\n",
       "      <td>Listing 1</td>\n",
       "      <td>Host1</td>\n",
       "      <td>11231</td>\n",
       "      <td>ENTIRE HOME/APT</td>\n",
       "      <td>31</td>\n",
       "      <td>17</td>\n",
       "      <td>7</td>\n",
       "      <td>2022-03-15 00:00:00</td>\n",
       "      <td>1.55</td>\n",
       "      <td>NaN</td>\n",
       "      <td>t</td>\n",
       "    </tr>\n",
       "    <tr>\n",
       "      <th>2</th>\n",
       "      <td>1003</td>\n",
       "      <td>Listing 2</td>\n",
       "      <td>Host2</td>\n",
       "      <td>10009</td>\n",
       "      <td>PRIVATE ROOM</td>\n",
       "      <td>159</td>\n",
       "      <td>1</td>\n",
       "      <td>143</td>\n",
       "      <td>2022-04-26 00:00:00</td>\n",
       "      <td>3.13</td>\n",
       "      <td>NaN</td>\n",
       "      <td>f</td>\n",
       "    </tr>\n",
       "    <tr>\n",
       "      <th>3</th>\n",
       "      <td>1004</td>\n",
       "      <td>Listing 3</td>\n",
       "      <td>Host3</td>\n",
       "      <td>11211</td>\n",
       "      <td>ENTIRE HOME/APT</td>\n",
       "      <td>249</td>\n",
       "      <td>16</td>\n",
       "      <td>141</td>\n",
       "      <td>2022-07-26 00:00:00</td>\n",
       "      <td>1.43</td>\n",
       "      <td>NaN</td>\n",
       "      <td>f</td>\n",
       "    </tr>\n",
       "    <tr>\n",
       "      <th>4</th>\n",
       "      <td>1005</td>\n",
       "      <td>Listing 4</td>\n",
       "      <td>Host4</td>\n",
       "      <td>11101</td>\n",
       "      <td>SHARED ROOM</td>\n",
       "      <td>83</td>\n",
       "      <td>12</td>\n",
       "      <td>114</td>\n",
       "      <td>2021-12-28 00:00:00</td>\n",
       "      <td>3.73</td>\n",
       "      <td>NaN</td>\n",
       "      <td>f</td>\n",
       "    </tr>\n",
       "    <tr>\n",
       "      <th>...</th>\n",
       "      <td>...</td>\n",
       "      <td>...</td>\n",
       "      <td>...</td>\n",
       "      <td>...</td>\n",
       "      <td>...</td>\n",
       "      <td>...</td>\n",
       "      <td>...</td>\n",
       "      <td>...</td>\n",
       "      <td>...</td>\n",
       "      <td>...</td>\n",
       "      <td>...</td>\n",
       "      <td>...</td>\n",
       "    </tr>\n",
       "    <tr>\n",
       "      <th>97</th>\n",
       "      <td>1098</td>\n",
       "      <td>Listing 97</td>\n",
       "      <td>Host97</td>\n",
       "      <td>Brooklyn</td>\n",
       "      <td>Entire home/apt</td>\n",
       "      <td>306</td>\n",
       "      <td>4</td>\n",
       "      <td>189</td>\n",
       "      <td>2021-06-23 00:00:00</td>\n",
       "      <td>3.81</td>\n",
       "      <td>NaN</td>\n",
       "      <td>t</td>\n",
       "    </tr>\n",
       "    <tr>\n",
       "      <th>98</th>\n",
       "      <td>1099</td>\n",
       "      <td>Listing 98</td>\n",
       "      <td>Host98</td>\n",
       "      <td>Brooklyn</td>\n",
       "      <td>Entire home/apt</td>\n",
       "      <td>333</td>\n",
       "      <td>13</td>\n",
       "      <td>196</td>\n",
       "      <td>2021-08-12 00:00:00</td>\n",
       "      <td>3.57</td>\n",
       "      <td>NaN</td>\n",
       "      <td>t</td>\n",
       "    </tr>\n",
       "    <tr>\n",
       "      <th>99</th>\n",
       "      <td>1100</td>\n",
       "      <td>Listing 99</td>\n",
       "      <td>Host99</td>\n",
       "      <td>Manhattan</td>\n",
       "      <td>Shared room</td>\n",
       "      <td>164</td>\n",
       "      <td>20</td>\n",
       "      <td>143</td>\n",
       "      <td>2023-03-25 00:00:00</td>\n",
       "      <td>1.88</td>\n",
       "      <td>NaN</td>\n",
       "      <td>t</td>\n",
       "    </tr>\n",
       "    <tr>\n",
       "      <th>100</th>\n",
       "      <td>1001</td>\n",
       "      <td>Listing 0</td>\n",
       "      <td>Host0</td>\n",
       "      <td>Bronx</td>\n",
       "      <td>Shared room</td>\n",
       "      <td>142</td>\n",
       "      <td>3</td>\n",
       "      <td>64</td>\n",
       "      <td>2022-11-26 00:00:00</td>\n",
       "      <td>1.71</td>\n",
       "      <td>123-456-7890</td>\n",
       "      <td>t</td>\n",
       "    </tr>\n",
       "    <tr>\n",
       "      <th>101</th>\n",
       "      <td>1002</td>\n",
       "      <td>Listing 1</td>\n",
       "      <td>Host1</td>\n",
       "      <td>Staten Island</td>\n",
       "      <td>Entire home/apt</td>\n",
       "      <td>31</td>\n",
       "      <td>17</td>\n",
       "      <td>7</td>\n",
       "      <td>2022-03-15 00:00:00</td>\n",
       "      <td>1.55</td>\n",
       "      <td>NaN</td>\n",
       "      <td>f</td>\n",
       "    </tr>\n",
       "  </tbody>\n",
       "</table>\n",
       "<p>102 rows × 12 columns</p>\n",
       "</div>"
      ],
      "text/plain": [
       "       id        name host_name neighbourhood_group         room_type price  \\\n",
       "0    1001   Listing 0     Host0               10001      SHARED ROOM    142   \n",
       "1    1002   Listing 1     Host1               11231  ENTIRE HOME/APT     31   \n",
       "2    1003   Listing 2     Host2               10009     PRIVATE ROOM    159   \n",
       "3    1004   Listing 3     Host3               11211  ENTIRE HOME/APT    249   \n",
       "4    1005   Listing 4     Host4               11101      SHARED ROOM     83   \n",
       "..    ...         ...       ...                 ...               ...   ...   \n",
       "97   1098  Listing 97    Host97            Brooklyn   Entire home/apt   306   \n",
       "98   1099  Listing 98    Host98            Brooklyn   Entire home/apt   333   \n",
       "99   1100  Listing 99    Host99           Manhattan       Shared room   164   \n",
       "100  1001   Listing 0     Host0               Bronx       Shared room   142   \n",
       "101  1002   Listing 1     Host1       Staten Island   Entire home/apt    31   \n",
       "\n",
       "     minimum_nights  number_of_reviews          last_review reviews_per_month  \\\n",
       "0                 3                 64  2022-11-26 00:00:00              1.71   \n",
       "1                17                  7  2022-03-15 00:00:00              1.55   \n",
       "2                 1                143  2022-04-26 00:00:00              3.13   \n",
       "3                16                141  2022-07-26 00:00:00              1.43   \n",
       "4                12                114  2021-12-28 00:00:00              3.73   \n",
       "..              ...                ...                  ...               ...   \n",
       "97                4                189  2021-06-23 00:00:00              3.81   \n",
       "98               13                196  2021-08-12 00:00:00              3.57   \n",
       "99               20                143  2023-03-25 00:00:00              1.88   \n",
       "100               3                 64  2022-11-26 00:00:00              1.71   \n",
       "101              17                  7  2022-03-15 00:00:00              1.55   \n",
       "\n",
       "       host_phone has_wifi  \n",
       "0    123-456-7890        f  \n",
       "1             NaN        t  \n",
       "2             NaN        f  \n",
       "3             NaN        f  \n",
       "4             NaN        f  \n",
       "..            ...      ...  \n",
       "97            NaN        t  \n",
       "98            NaN        t  \n",
       "99            NaN        t  \n",
       "100  123-456-7890        t  \n",
       "101           NaN        f  \n",
       "\n",
       "[102 rows x 12 columns]"
      ]
     },
     "metadata": {},
     "output_type": "display_data"
    }
   ],
   "source": [
    "\n",
    "\n",
    "csv_url = 'https://www.dropbox.com/scl/fi/gvg9vt3lcnh1807q0enlm/airbnb_dirty.csv?rlkey=x2q13wifq69djvu85zmsof530&dl=1'\n",
    "csv_file = 'airbnb_dirty.csv'\n",
    "\n",
    "if not os.path.exists(csv_file):\n",
    "    !wget -O \"$csv_file\" \"$csv_url\"\n",
    "\n",
    "\n",
    "df = pd.read_csv(csv_file)\n",
    "\n",
    "display(df)"
   ]
  },
  {
   "cell_type": "code",
   "execution_count": 27,
   "metadata": {},
   "outputs": [
    {
     "name": "stdout",
     "output_type": "stream",
     "text": [
      "Index(['id', 'name', 'host_name', 'neighbourhood_group', 'room_type', 'price',\n",
      "       'minimum_nights', 'number_of_reviews', 'last_review',\n",
      "       'reviews_per_month', 'host_phone', 'has_wifi'],\n",
      "      dtype='object') (102, 12)\n"
     ]
    },
    {
     "data": {
      "application/vnd.microsoft.datawrangler.viewer.v0+json": {
       "columns": [
        {
         "name": "index",
         "rawType": "object",
         "type": "string"
        },
        {
         "name": "id",
         "rawType": "float64",
         "type": "float"
        },
        {
         "name": "minimum_nights",
         "rawType": "float64",
         "type": "float"
        },
        {
         "name": "number_of_reviews",
         "rawType": "float64",
         "type": "float"
        }
       ],
       "ref": "7543daff-31d1-484d-ad6d-7bcbb17532b5",
       "rows": [
        [
         "count",
         "102.0",
         "102.0",
         "102.0"
        ],
        [
         "mean",
         "1049.5392156862745",
         "15.676470588235293",
         "99.8921568627451"
        ],
        [
         "std",
         "29.523164782670268",
         "9.11332585898242",
         "55.90159438430914"
        ],
        [
         "min",
         "1001.0",
         "1.0",
         "0.0"
        ],
        [
         "25%",
         "1024.25",
         "7.25",
         "57.0"
        ],
        [
         "50%",
         "1049.5",
         "17.0",
         "97.5"
        ],
        [
         "75%",
         "1074.75",
         "23.0",
         "143.0"
        ],
        [
         "max",
         "1100.0",
         "29.0",
         "196.0"
        ]
       ],
       "shape": {
        "columns": 3,
        "rows": 8
       }
      },
      "text/html": [
       "<div>\n",
       "<style scoped>\n",
       "    .dataframe tbody tr th:only-of-type {\n",
       "        vertical-align: middle;\n",
       "    }\n",
       "\n",
       "    .dataframe tbody tr th {\n",
       "        vertical-align: top;\n",
       "    }\n",
       "\n",
       "    .dataframe thead th {\n",
       "        text-align: right;\n",
       "    }\n",
       "</style>\n",
       "<table border=\"1\" class=\"dataframe\">\n",
       "  <thead>\n",
       "    <tr style=\"text-align: right;\">\n",
       "      <th></th>\n",
       "      <th>id</th>\n",
       "      <th>minimum_nights</th>\n",
       "      <th>number_of_reviews</th>\n",
       "    </tr>\n",
       "  </thead>\n",
       "  <tbody>\n",
       "    <tr>\n",
       "      <th>count</th>\n",
       "      <td>102.000000</td>\n",
       "      <td>102.000000</td>\n",
       "      <td>102.000000</td>\n",
       "    </tr>\n",
       "    <tr>\n",
       "      <th>mean</th>\n",
       "      <td>1049.539216</td>\n",
       "      <td>15.676471</td>\n",
       "      <td>99.892157</td>\n",
       "    </tr>\n",
       "    <tr>\n",
       "      <th>std</th>\n",
       "      <td>29.523165</td>\n",
       "      <td>9.113326</td>\n",
       "      <td>55.901594</td>\n",
       "    </tr>\n",
       "    <tr>\n",
       "      <th>min</th>\n",
       "      <td>1001.000000</td>\n",
       "      <td>1.000000</td>\n",
       "      <td>0.000000</td>\n",
       "    </tr>\n",
       "    <tr>\n",
       "      <th>25%</th>\n",
       "      <td>1024.250000</td>\n",
       "      <td>7.250000</td>\n",
       "      <td>57.000000</td>\n",
       "    </tr>\n",
       "    <tr>\n",
       "      <th>50%</th>\n",
       "      <td>1049.500000</td>\n",
       "      <td>17.000000</td>\n",
       "      <td>97.500000</td>\n",
       "    </tr>\n",
       "    <tr>\n",
       "      <th>75%</th>\n",
       "      <td>1074.750000</td>\n",
       "      <td>23.000000</td>\n",
       "      <td>143.000000</td>\n",
       "    </tr>\n",
       "    <tr>\n",
       "      <th>max</th>\n",
       "      <td>1100.000000</td>\n",
       "      <td>29.000000</td>\n",
       "      <td>196.000000</td>\n",
       "    </tr>\n",
       "  </tbody>\n",
       "</table>\n",
       "</div>"
      ],
      "text/plain": [
       "                id  minimum_nights  number_of_reviews\n",
       "count   102.000000      102.000000         102.000000\n",
       "mean   1049.539216       15.676471          99.892157\n",
       "std      29.523165        9.113326          55.901594\n",
       "min    1001.000000        1.000000           0.000000\n",
       "25%    1024.250000        7.250000          57.000000\n",
       "50%    1049.500000       17.000000          97.500000\n",
       "75%    1074.750000       23.000000         143.000000\n",
       "max    1100.000000       29.000000         196.000000"
      ]
     },
     "execution_count": 27,
     "metadata": {},
     "output_type": "execute_result"
    }
   ],
   "source": [
    "print(df.columns, df.shape)\n",
    "\n",
    "df.describe()"
   ]
  },
  {
   "cell_type": "code",
   "execution_count": 28,
   "metadata": {},
   "outputs": [
    {
     "data": {
      "image/png": "[encoded data removed]",
      "text/plain": [
       "<Figure size 1200x400 with 1 Axes>"
      ]
     },
     "metadata": {},
     "output_type": "display_data"
    }
   ],
   "source": [
    "price_series = df['price'].str.extract(r'(\\d+\\.?\\d*)', expand=False).astype(float).dropna()\n",
    "\n",
    "# --- Plotting a Box Plot to Visualize Outliers ---\n",
    "plt.figure(figsize=(12, 4))\n",
    "plt.boxplot(price_series, vert=False)\n",
    "plt.title('Box Plot of Airbnb Prices')\n",
    "plt.xlabel('Price ($)')\n",
    "plt.yticks([]) # Hide y-axis ticks for clarity\n",
    "plt.grid(axis='x', linestyle='--', alpha=0.7)\n",
    "plt.savefig('price_boxplot.png')"
   ]
  },
  {
   "cell_type": "code",
   "execution_count": 29,
   "metadata": {},
   "outputs": [
    {
     "data": {
      "image/png": "[encoded data removed]",
      "text/plain": [
       "<Figure size 1200x600 with 1 Axes>"
      ]
     },
     "metadata": {},
     "output_type": "display_data"
    }
   ],
   "source": [
    "p9999 = price_series.quantile(0.9999)\n",
    "capped_prices = price_series[price_series <= p9999]\n",
    "\n",
    "# --- Plotting a More Informative Capped Histogram ---\n",
    "plt.figure(figsize=(12, 6))\n",
    "plt.hist(capped_prices, bins=10, edgecolor='black')\n",
    "plt.title(f'Distribution of Airbnb Prices (Capped at 99.99th percentile: ${p9999:.2f})')\n",
    "plt.xlabel('Price ($)')\n",
    "plt.ylabel('Frequency')\n",
    "\n",
    "# Add lines for mean and median to show skewness\n",
    "plt.axvline(price_series.median(), color='red', linestyle='dashed', linewidth=2, label=f'Median Price: ${price_series.median():.2f}')\n",
    "plt.axvline(price_series.mean(), color='green', linestyle='dashed', linewidth=2, label=f'Mean Price: ${price_series.mean():.2f}')\n",
    "\n",
    "plt.legend()\n",
    "plt.grid(axis='y', alpha=0.75)\n",
    "plt.savefig('price_histogram_capped.png')"
   ]
  },
  {
   "cell_type": "markdown",
   "metadata": {
    "id": "Qq0BZ2_6Yo2-"
   },
   "source": [
    "## 🧹 Part B: Data Cleaning\n",
    "\n",
    "**Clean your dataset to make it ready for modeling.** Consider the following steps:\n",
    "- Fix or convert `price` to numeric\n",
    "- Convert `last_review` to datetime (hint: use `errors='coerce'`)\n",
    "- Handle invalid or missing data in `reviews_per_month`\n",
    "- Drop columns that are not useful (e.g., `host_name`, `host_phone`, or duplicates)\n",
    "- Handle duplicate rows\n",
    "- Make sure categorical values are consistent (e.g. whitespace in `room_type`)"
   ]
  },
  {
   "cell_type": "code",
   "execution_count": 30,
   "metadata": {},
   "outputs": [
    {
     "name": "stdout",
     "output_type": "stream",
     "text": [
      "101\n"
     ]
    },
    {
     "data": {
      "application/vnd.microsoft.datawrangler.viewer.v0+json": {
       "columns": [
        {
         "name": "index",
         "rawType": "int64",
         "type": "integer"
        },
        {
         "name": "price",
         "rawType": "float64",
         "type": "float"
        }
       ],
       "ref": "6521ea09-56da-4c91-bf6b-90282f8e4c14",
       "rows": [
        [
         "0",
         "142.0"
        ],
        [
         "1",
         "31.0"
        ],
        [
         "2",
         "159.0"
        ],
        [
         "3",
         "249.0"
        ],
        [
         "4",
         "83.0"
        ],
        [
         "5",
         "150.0"
        ],
        [
         "6",
         "253.0"
        ],
        [
         "7",
         "254.0"
        ],
        [
         "8",
         "155.0"
        ],
        [
         "9",
         "159.0"
        ],
        [
         "10",
         "100.0"
        ],
        [
         "12",
         "247.0"
        ],
        [
         "13",
         "189.0"
        ],
        [
         "14",
         "227.0"
        ],
        [
         "15",
         "276.0"
        ],
        [
         "16",
         "353.0"
        ],
        [
         "17",
         "232.0"
        ],
        [
         "18",
         "213.0"
        ],
        [
         "19",
         "152.0"
        ],
        [
         "20",
         "284.0"
        ],
        [
         "21",
         "323.0"
        ],
        [
         "22",
         "309.0"
        ],
        [
         "23",
         "354.0"
        ],
        [
         "24",
         "127.0"
        ],
        [
         "25",
         "227.0"
        ],
        [
         "26",
         "269.0"
        ],
        [
         "27",
         "173.0"
        ],
        [
         "28",
         "126.0"
        ],
        [
         "29",
         "230.0"
        ],
        [
         "30",
         "153.0"
        ],
        [
         "31",
         "216.0"
        ],
        [
         "32",
         "355.0"
        ],
        [
         "33",
         "378.0"
        ],
        [
         "34",
         "288.0"
        ],
        [
         "35",
         "177.0"
        ],
        [
         "36",
         "281.0"
        ],
        [
         "37",
         "375.0"
        ],
        [
         "38",
         "176.0"
        ],
        [
         "39",
         "177.0"
        ],
        [
         "40",
         "381.0"
        ],
        [
         "41",
         "228.0"
        ],
        [
         "42",
         "337.0"
        ],
        [
         "43",
         "157.0"
        ],
        [
         "44",
         "68.0"
        ],
        [
         "45",
         "367.0"
        ],
        [
         "46",
         "389.0"
        ],
        [
         "47",
         "158.0"
        ],
        [
         "48",
         "296.0"
        ],
        [
         "49",
         "180.0"
        ],
        [
         "50",
         "327.0"
        ]
       ],
       "shape": {
        "columns": 1,
        "rows": 101
       }
      },
      "text/html": [
       "<div>\n",
       "<style scoped>\n",
       "    .dataframe tbody tr th:only-of-type {\n",
       "        vertical-align: middle;\n",
       "    }\n",
       "\n",
       "    .dataframe tbody tr th {\n",
       "        vertical-align: top;\n",
       "    }\n",
       "\n",
       "    .dataframe thead th {\n",
       "        text-align: right;\n",
       "    }\n",
       "</style>\n",
       "<table border=\"1\" class=\"dataframe\">\n",
       "  <thead>\n",
       "    <tr style=\"text-align: right;\">\n",
       "      <th></th>\n",
       "      <th>price</th>\n",
       "    </tr>\n",
       "  </thead>\n",
       "  <tbody>\n",
       "    <tr>\n",
       "      <th>0</th>\n",
       "      <td>142.0</td>\n",
       "    </tr>\n",
       "    <tr>\n",
       "      <th>1</th>\n",
       "      <td>31.0</td>\n",
       "    </tr>\n",
       "    <tr>\n",
       "      <th>2</th>\n",
       "      <td>159.0</td>\n",
       "    </tr>\n",
       "    <tr>\n",
       "      <th>3</th>\n",
       "      <td>249.0</td>\n",
       "    </tr>\n",
       "    <tr>\n",
       "      <th>4</th>\n",
       "      <td>83.0</td>\n",
       "    </tr>\n",
       "    <tr>\n",
       "      <th>...</th>\n",
       "      <td>...</td>\n",
       "    </tr>\n",
       "    <tr>\n",
       "      <th>97</th>\n",
       "      <td>306.0</td>\n",
       "    </tr>\n",
       "    <tr>\n",
       "      <th>98</th>\n",
       "      <td>333.0</td>\n",
       "    </tr>\n",
       "    <tr>\n",
       "      <th>99</th>\n",
       "      <td>164.0</td>\n",
       "    </tr>\n",
       "    <tr>\n",
       "      <th>100</th>\n",
       "      <td>142.0</td>\n",
       "    </tr>\n",
       "    <tr>\n",
       "      <th>101</th>\n",
       "      <td>31.0</td>\n",
       "    </tr>\n",
       "  </tbody>\n",
       "</table>\n",
       "<p>101 rows × 1 columns</p>\n",
       "</div>"
      ],
      "text/plain": [
       "     price\n",
       "0    142.0\n",
       "1     31.0\n",
       "2    159.0\n",
       "3    249.0\n",
       "4     83.0\n",
       "..     ...\n",
       "97   306.0\n",
       "98   333.0\n",
       "99   164.0\n",
       "100  142.0\n",
       "101   31.0\n",
       "\n",
       "[101 rows x 1 columns]"
      ]
     },
     "metadata": {},
     "output_type": "display_data"
    }
   ],
   "source": [
    "# Remove \" USD\" and \"$\" using a regular expression\n",
    "df['price'] = df['price'].str.replace(' USD|\\\\$', '', regex=True)\n",
    "\n",
    "# Convert to numeric, raise error if unable to convert values\n",
    "df['price'] = pd.to_numeric(df['price'], errors='raise')\n",
    "print(f\"{len(df['price'][df['price'] < p9999].dropna())}\")\n",
    "df = df[df['price'] < p9999].dropna(subset=['price'])\n",
    "\n",
    "display(df[[ 'price']])"
   ]
  },
  {
   "cell_type": "code",
   "execution_count": 31,
   "metadata": {},
   "outputs": [],
   "source": [
    "def find_missing_rows(df1, df2):\n",
    "    \"\"\"\n",
    "    Finds rows that exist in df1 but not in df2.\n",
    "    This comparison is based on all columns.\n",
    "    \"\"\"\n",
    "    # An outer merge aligns the two DataFrames. The indicator shows the source of each row.\n",
    "    merged_df = df1.merge(df2, how='outer', indicator=True)\n",
    "    \n",
    "    # Filter for rows that are exclusive to the left DataFrame (df1).\n",
    "    missing_rows_df = merged_df[merged_df['_merge'] == 'left_only'].drop(columns=['_merge'])\n",
    "    print(f\"Missing rows columns: {missing_rows_df.columns}, shape: {missing_rows_df.shape}\")\n",
    "    return missing_rows_df\n"
   ]
  },
  {
   "cell_type": "code",
   "execution_count": 32,
   "metadata": {},
   "outputs": [
    {
     "name": "stdout",
     "output_type": "stream",
     "text": [
      "Missing rows columns: Index(['id', 'neighbourhood_group', 'room_type', 'price', 'minimum_nights',\n",
      "       'number_of_reviews', 'last_review', 'reviews_per_month', 'has_wifi'],\n",
      "      dtype='object'), shape: (2, 9)\n"
     ]
    },
    {
     "data": {
      "application/vnd.microsoft.datawrangler.viewer.v0+json": {
       "columns": [
        {
         "name": "index",
         "rawType": "int64",
         "type": "integer"
        },
        {
         "name": "id",
         "rawType": "int64",
         "type": "integer"
        },
        {
         "name": "neighbourhood_group",
         "rawType": "object",
         "type": "string"
        },
        {
         "name": "room_type",
         "rawType": "object",
         "type": "string"
        },
        {
         "name": "price",
         "rawType": "float64",
         "type": "float"
        },
        {
         "name": "minimum_nights",
         "rawType": "int64",
         "type": "integer"
        },
        {
         "name": "number_of_reviews",
         "rawType": "int64",
         "type": "integer"
        },
        {
         "name": "last_review",
         "rawType": "object",
         "type": "string"
        },
        {
         "name": "reviews_per_month",
         "rawType": "object",
         "type": "string"
        },
        {
         "name": "has_wifi",
         "rawType": "object",
         "type": "string"
        }
       ],
       "ref": "ffb2c8e0-a0b3-4c74-a7d3-7eaa14b456fa",
       "rows": [
        [
         "1",
         "1001",
         "Bronx",
         "Shared room",
         "142.0",
         "3",
         "64",
         "2022-11-26 00:00:00",
         "1.71",
         "t"
        ],
        [
         "3",
         "1002",
         "Staten Island",
         "Entire home/apt",
         "31.0",
         "17",
         "7",
         "2022-03-15 00:00:00",
         "1.55",
         "f"
        ]
       ],
       "shape": {
        "columns": 9,
        "rows": 2
       }
      },
      "text/html": [
       "<div>\n",
       "<style scoped>\n",
       "    .dataframe tbody tr th:only-of-type {\n",
       "        vertical-align: middle;\n",
       "    }\n",
       "\n",
       "    .dataframe tbody tr th {\n",
       "        vertical-align: top;\n",
       "    }\n",
       "\n",
       "    .dataframe thead th {\n",
       "        text-align: right;\n",
       "    }\n",
       "</style>\n",
       "<table border=\"1\" class=\"dataframe\">\n",
       "  <thead>\n",
       "    <tr style=\"text-align: right;\">\n",
       "      <th></th>\n",
       "      <th>id</th>\n",
       "      <th>neighbourhood_group</th>\n",
       "      <th>room_type</th>\n",
       "      <th>price</th>\n",
       "      <th>minimum_nights</th>\n",
       "      <th>number_of_reviews</th>\n",
       "      <th>last_review</th>\n",
       "      <th>reviews_per_month</th>\n",
       "      <th>has_wifi</th>\n",
       "    </tr>\n",
       "  </thead>\n",
       "  <tbody>\n",
       "    <tr>\n",
       "      <th>1</th>\n",
       "      <td>1001</td>\n",
       "      <td>Bronx</td>\n",
       "      <td>Shared room</td>\n",
       "      <td>142.0</td>\n",
       "      <td>3</td>\n",
       "      <td>64</td>\n",
       "      <td>2022-11-26 00:00:00</td>\n",
       "      <td>1.71</td>\n",
       "      <td>t</td>\n",
       "    </tr>\n",
       "    <tr>\n",
       "      <th>3</th>\n",
       "      <td>1002</td>\n",
       "      <td>Staten Island</td>\n",
       "      <td>Entire home/apt</td>\n",
       "      <td>31.0</td>\n",
       "      <td>17</td>\n",
       "      <td>7</td>\n",
       "      <td>2022-03-15 00:00:00</td>\n",
       "      <td>1.55</td>\n",
       "      <td>f</td>\n",
       "    </tr>\n",
       "  </tbody>\n",
       "</table>\n",
       "</div>"
      ],
      "text/plain": [
       "     id neighbourhood_group        room_type  price  minimum_nights  \\\n",
       "1  1001               Bronx      Shared room  142.0               3   \n",
       "3  1002       Staten Island  Entire home/apt   31.0              17   \n",
       "\n",
       "   number_of_reviews          last_review reviews_per_month has_wifi  \n",
       "1                 64  2022-11-26 00:00:00              1.71        t  \n",
       "3                  7  2022-03-15 00:00:00              1.55        f  "
      ]
     },
     "metadata": {},
     "output_type": "display_data"
    }
   ],
   "source": [
    "# Clean column names of any whitespace\n",
    "df.columns = df.columns.str.strip()\n",
    "\n",
    "# Remove columns, then rows that are not useful\n",
    "# This will improve performance of operations on large datasets\n",
    "df = df.drop(columns=['name', 'host_name', 'host_phone'])\n",
    "\n",
    "df_before = df\n",
    "\n",
    "# Remove latter occurrence of rows with duplicates in the 'id' column\n",
    "df = df.drop_duplicates(subset=['id'])\n",
    "\n",
    "display(find_missing_rows(df_before, df))\n"
   ]
  },
  {
   "cell_type": "code",
   "execution_count": 33,
   "metadata": {},
   "outputs": [
    {
     "data": {
      "application/vnd.microsoft.datawrangler.viewer.v0+json": {
       "columns": [
        {
         "name": "index",
         "rawType": "int64",
         "type": "integer"
        },
        {
         "name": "id",
         "rawType": "int64",
         "type": "integer"
        },
        {
         "name": "neighbourhood_group",
         "rawType": "object",
         "type": "string"
        },
        {
         "name": "room_type",
         "rawType": "object",
         "type": "string"
        },
        {
         "name": "price",
         "rawType": "float64",
         "type": "float"
        },
        {
         "name": "minimum_nights",
         "rawType": "int64",
         "type": "integer"
        },
        {
         "name": "number_of_reviews",
         "rawType": "int64",
         "type": "integer"
        },
        {
         "name": "last_review",
         "rawType": "int64",
         "type": "integer"
        },
        {
         "name": "reviews_per_month",
         "rawType": "object",
         "type": "string"
        },
        {
         "name": "has_wifi",
         "rawType": "object",
         "type": "string"
        }
       ],
       "ref": "0ec196c4-570a-4184-92c8-b28812430bdb",
       "rows": [
        [
         "0",
         "1001",
         "10001",
         "SHARED ROOM ",
         "142.0",
         "3",
         "64",
         "1669420800",
         "1.71",
         "f"
        ],
        [
         "1",
         "1002",
         "11231",
         "ENTIRE HOME/APT ",
         "31.0",
         "17",
         "7",
         "1647302400",
         "1.55",
         "t"
        ],
        [
         "2",
         "1003",
         "10009",
         "PRIVATE ROOM ",
         "159.0",
         "1",
         "143",
         "1650931200",
         "3.13",
         "f"
        ],
        [
         "3",
         "1004",
         "11211",
         "ENTIRE HOME/APT ",
         "249.0",
         "16",
         "141",
         "1658793600",
         "1.43",
         "f"
        ],
        [
         "4",
         "1005",
         "11101",
         "SHARED ROOM ",
         "83.0",
         "12",
         "114",
         "1640649600",
         "3.73",
         "f"
        ],
        [
         "5",
         "1006",
         "10002",
         "SHARED ROOM ",
         "150.0",
         "27",
         "142",
         "1635379200",
         "3.45",
         "f"
        ],
        [
         "6",
         "1007",
         "Queens",
         "PRIVATE ROOM ",
         "253.0",
         "19",
         "91",
         "1663286400",
         "1.77",
         "f"
        ],
        [
         "7",
         "1008",
         "Queens",
         "ENTIRE HOME/APT ",
         "254.0",
         "22",
         "97",
         "1666310400",
         "3.03",
         "f"
        ],
        [
         "8",
         "1009",
         "Queens",
         "SHARED ROOM ",
         "155.0",
         "23",
         "65",
         "1624838400",
         "3.04",
         "f"
        ],
        [
         "9",
         "1010",
         "Staten Island",
         "PRIVATE ROOM ",
         "159.0",
         "22",
         "31",
         "1657411200",
         "0.5",
         "f"
        ],
        [
         "10",
         "1011",
         "Bronx",
         "SHARED ROOM ",
         "100.0",
         "14",
         "190",
         "1686268800",
         "3.62",
         "f"
        ],
        [
         "12",
         "1013",
         "Staten Island",
         "Entire home/apt",
         "247.0",
         "6",
         "50",
         "1643155200",
         "3.32",
         "f"
        ],
        [
         "13",
         "1014",
         "Brooklyn",
         "Shared room",
         "189.0",
         "13",
         "152",
         "1622764800",
         "1.35",
         "t"
        ],
        [
         "14",
         "1015",
         "Bronx",
         "Entire home/apt",
         "227.0",
         "19",
         "185",
         "1615939200",
         "3.59",
         "t"
        ],
        [
         "15",
         "1016",
         "Brooklyn",
         "Shared room",
         "276.0",
         "22",
         "62",
         "1679616000",
         "1.62",
         "f"
        ],
        [
         "16",
         "1017",
         "Bronx",
         "Private room",
         "353.0",
         "8",
         "189",
         "1618963200",
         "0.14",
         "f"
        ],
        [
         "17",
         "1018",
         "Staten Island",
         "Shared room",
         "232.0",
         "27",
         "124",
         "1672704000",
         "3.63",
         "t"
        ],
        [
         "18",
         "1019",
         "Manhattan",
         "Entire home/apt",
         "213.0",
         "27",
         "149",
         "1668988800",
         "0.46",
         "f"
        ],
        [
         "19",
         "1020",
         "Bronx",
         "Entire home/apt",
         "152.0",
         "2",
         "57",
         "1609977600",
         "1.35",
         "t"
        ],
        [
         "20",
         "1021",
         "Brooklyn",
         "Private room",
         "284.0",
         "21",
         "57",
         "1642161600",
         "3.81",
         "t"
        ],
        [
         "21",
         "1022",
         "Staten Island",
         "Shared room",
         "323.0",
         "1",
         "85",
         "1642161600",
         "3.81",
         "t"
        ],
        [
         "22",
         "1023",
         "Bronx",
         "Shared room",
         "309.0",
         "28",
         "48",
         "1642161600",
         "2.34",
         "t"
        ],
        [
         "23",
         "1024",
         "Manhattan",
         "Private room",
         "354.0",
         "15",
         "179",
         "1635724800",
         "2.56",
         "t"
        ],
        [
         "24",
         "1025",
         "Manhattan",
         "Shared room",
         "127.0",
         "1",
         "169",
         "1621814400",
         "1.85",
         "f"
        ],
        [
         "25",
         "1026",
         "Queens",
         "Shared room",
         "227.0",
         "5",
         "69",
         "1660176000",
         "1.24",
         "t"
        ],
        [
         "26",
         "1027",
         "Queens",
         "Entire home/apt",
         "269.0",
         "28",
         "14",
         "1643673600",
         "1.38",
         "f"
        ],
        [
         "27",
         "1028",
         "Brooklyn",
         "Shared room",
         "173.0",
         "29",
         "53",
         "1686873600",
         "2.72",
         "f"
        ],
        [
         "28",
         "1029",
         "Bronx",
         "Shared room",
         "126.0",
         "16",
         "187",
         "1619827200",
         "3.03",
         "t"
        ],
        [
         "29",
         "1030",
         "Bronx",
         "Private room",
         "230.0",
         "19",
         "100",
         "1659225600",
         "3.19",
         "t"
        ],
        [
         "30",
         "1031",
         "Queens",
         "Private room",
         "153.0",
         "4",
         "7",
         "1622678400",
         "many",
         "f"
        ],
        [
         "31",
         "1032",
         "Bronx",
         "Entire home/apt",
         "216.0",
         "3",
         "52",
         "1665964800",
         "0.46",
         "t"
        ],
        [
         "32",
         "1033",
         "Bronx",
         "Shared room",
         "355.0",
         "17",
         "59",
         "1645315200",
         "2.03",
         "t"
        ],
        [
         "33",
         "1034",
         "Manhattan",
         "Shared room",
         "378.0",
         "17",
         "107",
         "1602892800",
         "0.32",
         "f"
        ],
        [
         "34",
         "1035",
         "Queens",
         "Shared room",
         "288.0",
         "12",
         "4",
         "1610841600",
         "2.24",
         "f"
        ],
        [
         "35",
         "1036",
         "Staten Island",
         "Entire home/apt",
         "177.0",
         "28",
         "102",
         "1674432000",
         "1.82",
         "t"
        ],
        [
         "36",
         "1037",
         "Queens",
         "Entire home/apt",
         "281.0",
         "29",
         "195",
         "1647216000",
         "3.56",
         "f"
        ],
        [
         "37",
         "1038",
         "Staten Island",
         "Private room",
         "375.0",
         "14",
         "5",
         "1614643200",
         "1.47",
         "t"
        ],
        [
         "38",
         "1039",
         "Manhattan",
         "Entire home/apt",
         "176.0",
         "21",
         "108",
         "1630886400",
         "0.56",
         "t"
        ],
        [
         "39",
         "1040",
         "Brooklyn",
         "Shared room",
         "177.0",
         "6",
         "115",
         "1609804800",
         "0.66",
         "t"
        ],
        [
         "40",
         "1041",
         "Bronx",
         "Shared room",
         "381.0",
         "3",
         "93",
         "1628640000",
         "3.07",
         "f"
        ],
        [
         "41",
         "1042",
         "Manhattan",
         "Entire home/apt",
         "228.0",
         "28",
         "46",
         "1629936000",
         "2.51",
         "f"
        ],
        [
         "42",
         "1043",
         "Bronx",
         "Shared room",
         "337.0",
         "9",
         "98",
         "1655424000",
         "0.49",
         "f"
        ],
        [
         "43",
         "1044",
         "Brooklyn",
         "Shared room",
         "157.0",
         "5",
         "54",
         "1641168000",
         "0.43",
         "f"
        ],
        [
         "44",
         "1045",
         "Brooklyn",
         "Entire home/apt",
         "68.0",
         "24",
         "167",
         "1607990400",
         "2.83",
         "f"
        ],
        [
         "45",
         "1046",
         "Manhattan",
         "Entire home/apt",
         "367.0",
         "29",
         "51",
         "1605571200",
         "0.38",
         "t"
        ],
        [
         "46",
         "1047",
         "Brooklyn",
         "Shared room",
         "389.0",
         "17",
         "143",
         "1628553600",
         "3.31",
         "t"
        ],
        [
         "47",
         "1048",
         "Staten Island",
         "Shared room",
         "158.0",
         "14",
         "12",
         "1651363200",
         "2.85",
         "t"
        ],
        [
         "48",
         "1049",
         "Brooklyn",
         "Shared room",
         "296.0",
         "21",
         "113",
         "1635292800",
         "0.42",
         "t"
        ],
        [
         "49",
         "1050",
         "Bronx",
         "Private room",
         "180.0",
         "3",
         "123",
         "1665100800",
         "0.43",
         "f"
        ],
        [
         "50",
         "1051",
         "Bronx",
         "Private room",
         "327.0",
         "28",
         "105",
         "1616112000",
         "3.95",
         "t"
        ]
       ],
       "shape": {
        "columns": 9,
        "rows": 99
       }
      },
      "text/html": [
       "<div>\n",
       "<style scoped>\n",
       "    .dataframe tbody tr th:only-of-type {\n",
       "        vertical-align: middle;\n",
       "    }\n",
       "\n",
       "    .dataframe tbody tr th {\n",
       "        vertical-align: top;\n",
       "    }\n",
       "\n",
       "    .dataframe thead th {\n",
       "        text-align: right;\n",
       "    }\n",
       "</style>\n",
       "<table border=\"1\" class=\"dataframe\">\n",
       "  <thead>\n",
       "    <tr style=\"text-align: right;\">\n",
       "      <th></th>\n",
       "      <th>id</th>\n",
       "      <th>neighbourhood_group</th>\n",
       "      <th>room_type</th>\n",
       "      <th>price</th>\n",
       "      <th>minimum_nights</th>\n",
       "      <th>number_of_reviews</th>\n",
       "      <th>last_review</th>\n",
       "      <th>reviews_per_month</th>\n",
       "      <th>has_wifi</th>\n",
       "    </tr>\n",
       "  </thead>\n",
       "  <tbody>\n",
       "    <tr>\n",
       "      <th>0</th>\n",
       "      <td>1001</td>\n",
       "      <td>10001</td>\n",
       "      <td>SHARED ROOM</td>\n",
       "      <td>142.0</td>\n",
       "      <td>3</td>\n",
       "      <td>64</td>\n",
       "      <td>1669420800</td>\n",
       "      <td>1.71</td>\n",
       "      <td>f</td>\n",
       "    </tr>\n",
       "    <tr>\n",
       "      <th>1</th>\n",
       "      <td>1002</td>\n",
       "      <td>11231</td>\n",
       "      <td>ENTIRE HOME/APT</td>\n",
       "      <td>31.0</td>\n",
       "      <td>17</td>\n",
       "      <td>7</td>\n",
       "      <td>1647302400</td>\n",
       "      <td>1.55</td>\n",
       "      <td>t</td>\n",
       "    </tr>\n",
       "    <tr>\n",
       "      <th>2</th>\n",
       "      <td>1003</td>\n",
       "      <td>10009</td>\n",
       "      <td>PRIVATE ROOM</td>\n",
       "      <td>159.0</td>\n",
       "      <td>1</td>\n",
       "      <td>143</td>\n",
       "      <td>1650931200</td>\n",
       "      <td>3.13</td>\n",
       "      <td>f</td>\n",
       "    </tr>\n",
       "    <tr>\n",
       "      <th>3</th>\n",
       "      <td>1004</td>\n",
       "      <td>11211</td>\n",
       "      <td>ENTIRE HOME/APT</td>\n",
       "      <td>249.0</td>\n",
       "      <td>16</td>\n",
       "      <td>141</td>\n",
       "      <td>1658793600</td>\n",
       "      <td>1.43</td>\n",
       "      <td>f</td>\n",
       "    </tr>\n",
       "    <tr>\n",
       "      <th>4</th>\n",
       "      <td>1005</td>\n",
       "      <td>11101</td>\n",
       "      <td>SHARED ROOM</td>\n",
       "      <td>83.0</td>\n",
       "      <td>12</td>\n",
       "      <td>114</td>\n",
       "      <td>1640649600</td>\n",
       "      <td>3.73</td>\n",
       "      <td>f</td>\n",
       "    </tr>\n",
       "    <tr>\n",
       "      <th>...</th>\n",
       "      <td>...</td>\n",
       "      <td>...</td>\n",
       "      <td>...</td>\n",
       "      <td>...</td>\n",
       "      <td>...</td>\n",
       "      <td>...</td>\n",
       "      <td>...</td>\n",
       "      <td>...</td>\n",
       "      <td>...</td>\n",
       "    </tr>\n",
       "    <tr>\n",
       "      <th>95</th>\n",
       "      <td>1096</td>\n",
       "      <td>Queens</td>\n",
       "      <td>Entire home/apt</td>\n",
       "      <td>97.0</td>\n",
       "      <td>7</td>\n",
       "      <td>46</td>\n",
       "      <td>1608768000</td>\n",
       "      <td>0.28</td>\n",
       "      <td>t</td>\n",
       "    </tr>\n",
       "    <tr>\n",
       "      <th>96</th>\n",
       "      <td>1097</td>\n",
       "      <td>Staten Island</td>\n",
       "      <td>Entire home/apt</td>\n",
       "      <td>318.0</td>\n",
       "      <td>25</td>\n",
       "      <td>93</td>\n",
       "      <td>1671667200</td>\n",
       "      <td>1.2</td>\n",
       "      <td>f</td>\n",
       "    </tr>\n",
       "    <tr>\n",
       "      <th>97</th>\n",
       "      <td>1098</td>\n",
       "      <td>Brooklyn</td>\n",
       "      <td>Entire home/apt</td>\n",
       "      <td>306.0</td>\n",
       "      <td>4</td>\n",
       "      <td>189</td>\n",
       "      <td>1624406400</td>\n",
       "      <td>3.81</td>\n",
       "      <td>t</td>\n",
       "    </tr>\n",
       "    <tr>\n",
       "      <th>98</th>\n",
       "      <td>1099</td>\n",
       "      <td>Brooklyn</td>\n",
       "      <td>Entire home/apt</td>\n",
       "      <td>333.0</td>\n",
       "      <td>13</td>\n",
       "      <td>196</td>\n",
       "      <td>1628726400</td>\n",
       "      <td>3.57</td>\n",
       "      <td>t</td>\n",
       "    </tr>\n",
       "    <tr>\n",
       "      <th>99</th>\n",
       "      <td>1100</td>\n",
       "      <td>Manhattan</td>\n",
       "      <td>Shared room</td>\n",
       "      <td>164.0</td>\n",
       "      <td>20</td>\n",
       "      <td>143</td>\n",
       "      <td>1679702400</td>\n",
       "      <td>1.88</td>\n",
       "      <td>t</td>\n",
       "    </tr>\n",
       "  </tbody>\n",
       "</table>\n",
       "<p>99 rows × 9 columns</p>\n",
       "</div>"
      ],
      "text/plain": [
       "      id neighbourhood_group         room_type  price  minimum_nights  \\\n",
       "0   1001               10001      SHARED ROOM   142.0               3   \n",
       "1   1002               11231  ENTIRE HOME/APT    31.0              17   \n",
       "2   1003               10009     PRIVATE ROOM   159.0               1   \n",
       "3   1004               11211  ENTIRE HOME/APT   249.0              16   \n",
       "4   1005               11101      SHARED ROOM    83.0              12   \n",
       "..   ...                 ...               ...    ...             ...   \n",
       "95  1096              Queens   Entire home/apt   97.0               7   \n",
       "96  1097       Staten Island   Entire home/apt  318.0              25   \n",
       "97  1098            Brooklyn   Entire home/apt  306.0               4   \n",
       "98  1099            Brooklyn   Entire home/apt  333.0              13   \n",
       "99  1100           Manhattan       Shared room  164.0              20   \n",
       "\n",
       "    number_of_reviews  last_review reviews_per_month has_wifi  \n",
       "0                  64   1669420800              1.71        f  \n",
       "1                   7   1647302400              1.55        t  \n",
       "2                 143   1650931200              3.13        f  \n",
       "3                 141   1658793600              1.43        f  \n",
       "4                 114   1640649600              3.73        f  \n",
       "..                ...          ...               ...      ...  \n",
       "95                 46   1608768000              0.28        t  \n",
       "96                 93   1671667200               1.2        f  \n",
       "97                189   1624406400              3.81        t  \n",
       "98                196   1628726400              3.57        t  \n",
       "99                143   1679702400              1.88        t  \n",
       "\n",
       "[99 rows x 9 columns]"
      ]
     },
     "metadata": {},
     "output_type": "display_data"
    }
   ],
   "source": [
    "# Convert to datetime and then to initial Unix timestamps (int64).\n",
    "# Invalid dates become the integer -9223372037.\n",
    "temp_series_int = pd.to_datetime(df['last_review'], errors='coerce').astype(np.int64) // 10**9\n",
    "\n",
    "# To calculate the median correctly, make a float copy and replace the NaT integer with np.nan.\n",
    "temp_series_for_median = temp_series_int.replace({-9223372037: np.nan})\n",
    "# This calculates the median as a float.\n",
    "median_timestamp = temp_series_for_median.median() \n",
    "# Go back to the original integer series and replace the NaT placeholder.\n",
    "# Convert the calculated float median to an integer before replacing.\n",
    "df['last_review'] = temp_series_int.replace({-9223372037: int(median_timestamp)})\n",
    "\n",
    "display(df)"
   ]
  },
  {
   "cell_type": "code",
   "execution_count": 34,
   "metadata": {},
   "outputs": [
    {
     "data": {
      "application/vnd.microsoft.datawrangler.viewer.v0+json": {
       "columns": [
        {
         "name": "room_type",
         "rawType": "object",
         "type": "string"
        },
        {
         "name": "count",
         "rawType": "int64",
         "type": "integer"
        }
       ],
       "ref": "9627472d-146d-4314-828a-27b421aa08e5",
       "rows": [
        [
         "shared room",
         "37"
        ],
        [
         "entire home/apt",
         "35"
        ],
        [
         "private room",
         "27"
        ]
       ],
       "shape": {
        "columns": 1,
        "rows": 3
       }
      },
      "text/plain": [
       "room_type\n",
       "shared room        37\n",
       "entire home/apt    35\n",
       "private room       27\n",
       "Name: count, dtype: int64"
      ]
     },
     "execution_count": 34,
     "metadata": {},
     "output_type": "execute_result"
    }
   ],
   "source": [
    "# Clean 'room_type' column by removing leading/trailing whitespace and converting to lowercase\n",
    "df['room_type'] = df['room_type'].str.strip().str.lower()\n",
    "# Check the unique values in 'room_type' to ensure consistency\n",
    "df['room_type'].value_counts()\n"
   ]
  },
  {
   "cell_type": "code",
   "execution_count": 35,
   "metadata": {},
   "outputs": [
    {
     "name": "stdout",
     "output_type": "stream",
     "text": [
      "Converting zip code 10001 to city: Manhattan\n",
      "Converting zip code 11231 to city: Brooklyn\n",
      "Converting zip code 10009 to city: Manhattan\n",
      "Converting zip code 11211 to city: Brooklyn\n",
      "Converting zip code 11101 to city: Queens\n",
      "Converting zip code 10002 to city: Manhattan\n"
     ]
    },
    {
     "data": {
      "application/vnd.microsoft.datawrangler.viewer.v0+json": {
       "columns": [
        {
         "name": "neighbourhood_group",
         "rawType": "object",
         "type": "string"
        },
        {
         "name": "count",
         "rawType": "int64",
         "type": "integer"
        }
       ],
       "ref": "25d5cacd-f7a7-40d7-9610-56aab5d7a409",
       "rows": [
        [
         "Bronx",
         "25"
        ],
        [
         "Brooklyn",
         "22"
        ],
        [
         "Manhattan",
         "21"
        ],
        [
         "Staten Island",
         "16"
        ],
        [
         "Queens",
         "15"
        ]
       ],
       "shape": {
        "columns": 1,
        "rows": 5
       }
      },
      "text/plain": [
       "neighbourhood_group\n",
       "Bronx            25\n",
       "Brooklyn         22\n",
       "Manhattan        21\n",
       "Staten Island    16\n",
       "Queens           15\n",
       "Name: count, dtype: int64"
      ]
     },
     "execution_count": 35,
     "metadata": {},
     "output_type": "execute_result"
    }
   ],
   "source": [
    "\n",
    "# use local geocoding to convert zip codes to city names\n",
    "# ideally a more robust approach should be used.\n",
    "nomi = pgeocode.Nominatim('us')\n",
    "\n",
    "def convert_zip_to_city(value, nomi):\n",
    "    \"\"\"\n",
    "    Hacky approach to convert zip codes to city names.\n",
    "    - If the value is not a 5-digit number, it's returned as is.\n",
    "    - If the value is a zip code, it's converted to a city name.\n",
    "    \"\"\"\n",
    "    # Convert value to string to handle potential mixed types\n",
    "    s_value = str(value).strip()\n",
    "\n",
    "    # Check if the value is a 5-digit number (a likely zip code)\n",
    "    if s_value.isdigit() and len(s_value) == 5:\n",
    "        try:\n",
    "            # Query for the location data of the zip code\n",
    "            location_info = nomi.query_postal_code(s_value)\n",
    "            \n",
    "            if pd.isna(location_info.place_name):\n",
    "                return value # Return original value if zip is not found\n",
    "\n",
    "            city = location_info['place_name']\n",
    "            zip_code = location_info['postal_code']\n",
    "\n",
    "            # Conditional replacement for 'New York'\n",
    "            if city == 'New York':\n",
    "                # TODO: handle more cities with alternative names\n",
    "                alternative_city_name = 'Manhattan'\n",
    "                print(f\"Converting zip code {zip_code} to city: {alternative_city_name}\")\n",
    "                return alternative_city_name\n",
    "            elif city == 'Long Island City':\n",
    "                alternative_city_name = 'Queens'\n",
    "                print(f\"Converting zip code {zip_code} to city: {alternative_city_name}\")\n",
    "                return alternative_city_name\n",
    "            else:\n",
    "                print(f\"Converting zip code {zip_code} to city: {city}\")\n",
    "                return city\n",
    "        except Exception:\n",
    "            # If any error occurs during lookup, return the original value\n",
    "            return value\n",
    "    else:\n",
    "        # If it's not a 5-digit number (e.g., \"Queens\", \"Brooklyn\"), return it unchanged\n",
    "        return value\n",
    "\n",
    "# Apply the updated function to the 'neighbourhood_group' column\n",
    "df['neighbourhood_group'] = df['neighbourhood_group'].apply(lambda x: convert_zip_to_city(x, nomi))\n",
    "\n",
    "df['neighbourhood_group'].value_counts()"
   ]
  },
  {
   "cell_type": "markdown",
   "metadata": {
    "id": "SBdDKx0kYo2-"
   },
   "source": [
    "## ⚙️ Part C: Feature Engineering\n",
    "\n",
    "1. Create `log_price` as the log of the `price` column (use `np.log1p`)\n",
    "2. One-hot encode `room_type` and `neighbourhood_group`\n",
    "3. Create a new feature: `reviews_x_freq = number_of_reviews * reviews_per_month`\n",
    "4. Optionally: Calculate days since `last_review`"
   ]
  },
  {
   "cell_type": "code",
   "execution_count": 36,
   "metadata": {},
   "outputs": [
    {
     "data": {
      "application/vnd.microsoft.datawrangler.viewer.v0+json": {
       "columns": [
        {
         "name": "index",
         "rawType": "int64",
         "type": "integer"
        },
        {
         "name": "id",
         "rawType": "int64",
         "type": "integer"
        },
        {
         "name": "has_wifi",
         "rawType": "int64",
         "type": "integer"
        }
       ],
       "ref": "b93061aa-49bd-46c6-980c-787d523c1b50",
       "rows": [
        [
         "0",
         "1001",
         "0"
        ],
        [
         "1",
         "1002",
         "1"
        ],
        [
         "2",
         "1003",
         "0"
        ],
        [
         "3",
         "1004",
         "0"
        ],
        [
         "4",
         "1005",
         "0"
        ],
        [
         "5",
         "1006",
         "0"
        ],
        [
         "6",
         "1007",
         "0"
        ],
        [
         "7",
         "1008",
         "0"
        ],
        [
         "8",
         "1009",
         "0"
        ],
        [
         "9",
         "1010",
         "0"
        ],
        [
         "10",
         "1011",
         "0"
        ],
        [
         "12",
         "1013",
         "0"
        ],
        [
         "13",
         "1014",
         "1"
        ],
        [
         "14",
         "1015",
         "1"
        ],
        [
         "15",
         "1016",
         "0"
        ],
        [
         "16",
         "1017",
         "0"
        ],
        [
         "17",
         "1018",
         "1"
        ],
        [
         "18",
         "1019",
         "0"
        ],
        [
         "19",
         "1020",
         "1"
        ],
        [
         "20",
         "1021",
         "1"
        ],
        [
         "21",
         "1022",
         "1"
        ],
        [
         "22",
         "1023",
         "1"
        ],
        [
         "23",
         "1024",
         "1"
        ],
        [
         "24",
         "1025",
         "0"
        ],
        [
         "25",
         "1026",
         "1"
        ],
        [
         "26",
         "1027",
         "0"
        ],
        [
         "27",
         "1028",
         "0"
        ],
        [
         "28",
         "1029",
         "1"
        ],
        [
         "29",
         "1030",
         "1"
        ],
        [
         "30",
         "1031",
         "0"
        ],
        [
         "31",
         "1032",
         "1"
        ],
        [
         "32",
         "1033",
         "1"
        ],
        [
         "33",
         "1034",
         "0"
        ],
        [
         "34",
         "1035",
         "0"
        ],
        [
         "35",
         "1036",
         "1"
        ],
        [
         "36",
         "1037",
         "0"
        ],
        [
         "37",
         "1038",
         "1"
        ],
        [
         "38",
         "1039",
         "1"
        ],
        [
         "39",
         "1040",
         "1"
        ],
        [
         "40",
         "1041",
         "0"
        ],
        [
         "41",
         "1042",
         "0"
        ],
        [
         "42",
         "1043",
         "0"
        ],
        [
         "43",
         "1044",
         "0"
        ],
        [
         "44",
         "1045",
         "0"
        ],
        [
         "45",
         "1046",
         "1"
        ],
        [
         "46",
         "1047",
         "1"
        ],
        [
         "47",
         "1048",
         "1"
        ],
        [
         "48",
         "1049",
         "1"
        ],
        [
         "49",
         "1050",
         "0"
        ],
        [
         "50",
         "1051",
         "1"
        ]
       ],
       "shape": {
        "columns": 2,
        "rows": 99
       }
      },
      "text/html": [
       "<div>\n",
       "<style scoped>\n",
       "    .dataframe tbody tr th:only-of-type {\n",
       "        vertical-align: middle;\n",
       "    }\n",
       "\n",
       "    .dataframe tbody tr th {\n",
       "        vertical-align: top;\n",
       "    }\n",
       "\n",
       "    .dataframe thead th {\n",
       "        text-align: right;\n",
       "    }\n",
       "</style>\n",
       "<table border=\"1\" class=\"dataframe\">\n",
       "  <thead>\n",
       "    <tr style=\"text-align: right;\">\n",
       "      <th></th>\n",
       "      <th>id</th>\n",
       "      <th>has_wifi</th>\n",
       "    </tr>\n",
       "  </thead>\n",
       "  <tbody>\n",
       "    <tr>\n",
       "      <th>0</th>\n",
       "      <td>1001</td>\n",
       "      <td>0</td>\n",
       "    </tr>\n",
       "    <tr>\n",
       "      <th>1</th>\n",
       "      <td>1002</td>\n",
       "      <td>1</td>\n",
       "    </tr>\n",
       "    <tr>\n",
       "      <th>2</th>\n",
       "      <td>1003</td>\n",
       "      <td>0</td>\n",
       "    </tr>\n",
       "    <tr>\n",
       "      <th>3</th>\n",
       "      <td>1004</td>\n",
       "      <td>0</td>\n",
       "    </tr>\n",
       "    <tr>\n",
       "      <th>4</th>\n",
       "      <td>1005</td>\n",
       "      <td>0</td>\n",
       "    </tr>\n",
       "    <tr>\n",
       "      <th>...</th>\n",
       "      <td>...</td>\n",
       "      <td>...</td>\n",
       "    </tr>\n",
       "    <tr>\n",
       "      <th>95</th>\n",
       "      <td>1096</td>\n",
       "      <td>1</td>\n",
       "    </tr>\n",
       "    <tr>\n",
       "      <th>96</th>\n",
       "      <td>1097</td>\n",
       "      <td>0</td>\n",
       "    </tr>\n",
       "    <tr>\n",
       "      <th>97</th>\n",
       "      <td>1098</td>\n",
       "      <td>1</td>\n",
       "    </tr>\n",
       "    <tr>\n",
       "      <th>98</th>\n",
       "      <td>1099</td>\n",
       "      <td>1</td>\n",
       "    </tr>\n",
       "    <tr>\n",
       "      <th>99</th>\n",
       "      <td>1100</td>\n",
       "      <td>1</td>\n",
       "    </tr>\n",
       "  </tbody>\n",
       "</table>\n",
       "<p>99 rows × 2 columns</p>\n",
       "</div>"
      ],
      "text/plain": [
       "      id  has_wifi\n",
       "0   1001         0\n",
       "1   1002         1\n",
       "2   1003         0\n",
       "3   1004         0\n",
       "4   1005         0\n",
       "..   ...       ...\n",
       "95  1096         1\n",
       "96  1097         0\n",
       "97  1098         1\n",
       "98  1099         1\n",
       "99  1100         1\n",
       "\n",
       "[99 rows x 2 columns]"
      ]
     },
     "metadata": {},
     "output_type": "display_data"
    }
   ],
   "source": [
    "df['has_wifi'] = df['has_wifi'].astype(str).str.lower().isin(['true', 't', '1']).astype(int)\n",
    "display(df[['id', 'has_wifi']])"
   ]
  },
  {
   "cell_type": "code",
   "execution_count": 37,
   "metadata": {},
   "outputs": [
    {
     "data": {
      "application/vnd.microsoft.datawrangler.viewer.v0+json": {
       "columns": [
        {
         "name": "index",
         "rawType": "int64",
         "type": "integer"
        },
        {
         "name": "id",
         "rawType": "int64",
         "type": "integer"
        },
        {
         "name": "log_price",
         "rawType": "float64",
         "type": "float"
        }
       ],
       "ref": "44bb93dd-8848-48f1-82e1-1b95bed2a8d8",
       "rows": [
        [
         "0",
         "1001",
         "4.962844630259907"
        ],
        [
         "1",
         "1002",
         "3.4657359027997265"
        ],
        [
         "2",
         "1003",
         "5.075173815233827"
        ],
        [
         "3",
         "1004",
         "5.521460917862246"
        ],
        [
         "4",
         "1005",
         "4.430816798843313"
        ],
        [
         "5",
         "1006",
         "5.017279836814924"
        ],
        [
         "6",
         "1007",
         "5.537334267018537"
        ],
        [
         "7",
         "1008",
         "5.541263545158426"
        ],
        [
         "8",
         "1009",
         "5.049856007249537"
        ],
        [
         "9",
         "1010",
         "5.075173815233827"
        ],
        [
         "10",
         "1011",
         "4.61512051684126"
        ],
        [
         "12",
         "1013",
         "5.5134287461649825"
        ],
        [
         "13",
         "1014",
         "5.247024072160486"
        ],
        [
         "14",
         "1015",
         "5.429345628954441"
        ],
        [
         "15",
         "1016",
         "5.6240175061873385"
        ],
        [
         "16",
         "1017",
         "5.869296913133774"
        ],
        [
         "17",
         "1018",
         "5.4510384535657"
        ],
        [
         "18",
         "1019",
         "5.365976015021851"
        ],
        [
         "19",
         "1020",
         "5.030437921392435"
        ],
        [
         "20",
         "1021",
         "5.652489180268651"
        ],
        [
         "21",
         "1022",
         "5.780743515792329"
        ],
        [
         "22",
         "1023",
         "5.736572297479192"
        ],
        [
         "23",
         "1024",
         "5.872117789475416"
        ],
        [
         "24",
         "1025",
         "4.852030263919617"
        ],
        [
         "25",
         "1026",
         "5.429345628954441"
        ],
        [
         "26",
         "1027",
         "5.598421958998375"
        ],
        [
         "27",
         "1028",
         "5.159055299214529"
        ],
        [
         "28",
         "1029",
         "4.844187086458591"
        ],
        [
         "29",
         "1030",
         "5.442417710521793"
        ],
        [
         "30",
         "1031",
         "5.0369526024136295"
        ],
        [
         "31",
         "1032",
         "5.37989735354046"
        ],
        [
         "32",
         "1033",
         "5.87493073085203"
        ],
        [
         "33",
         "1034",
         "5.937536205082426"
        ],
        [
         "34",
         "1035",
         "5.666426688112432"
        ],
        [
         "35",
         "1036",
         "5.181783550292085"
        ],
        [
         "36",
         "1037",
         "5.641907070938114"
        ],
        [
         "37",
         "1038",
         "5.929589143389895"
        ],
        [
         "38",
         "1039",
         "5.176149732573829"
        ],
        [
         "39",
         "1040",
         "5.181783550292085"
        ],
        [
         "40",
         "1041",
         "5.945420608606575"
        ],
        [
         "41",
         "1042",
         "5.43372200355424"
        ],
        [
         "42",
         "1043",
         "5.823045895483019"
        ],
        [
         "43",
         "1044",
         "5.062595033026967"
        ],
        [
         "44",
         "1045",
         "4.23410650459726"
        ],
        [
         "45",
         "1046",
         "5.908082938168931"
        ],
        [
         "46",
         "1047",
         "5.966146739123692"
        ],
        [
         "47",
         "1048",
         "5.0689042022202315"
        ],
        [
         "48",
         "1049",
         "5.6937321388027"
        ],
        [
         "49",
         "1050",
         "5.198497031265826"
        ],
        [
         "50",
         "1051",
         "5.793013608384144"
        ]
       ],
       "shape": {
        "columns": 2,
        "rows": 99
       }
      },
      "text/html": [
       "<div>\n",
       "<style scoped>\n",
       "    .dataframe tbody tr th:only-of-type {\n",
       "        vertical-align: middle;\n",
       "    }\n",
       "\n",
       "    .dataframe tbody tr th {\n",
       "        vertical-align: top;\n",
       "    }\n",
       "\n",
       "    .dataframe thead th {\n",
       "        text-align: right;\n",
       "    }\n",
       "</style>\n",
       "<table border=\"1\" class=\"dataframe\">\n",
       "  <thead>\n",
       "    <tr style=\"text-align: right;\">\n",
       "      <th></th>\n",
       "      <th>id</th>\n",
       "      <th>log_price</th>\n",
       "    </tr>\n",
       "  </thead>\n",
       "  <tbody>\n",
       "    <tr>\n",
       "      <th>0</th>\n",
       "      <td>1001</td>\n",
       "      <td>4.962845</td>\n",
       "    </tr>\n",
       "    <tr>\n",
       "      <th>1</th>\n",
       "      <td>1002</td>\n",
       "      <td>3.465736</td>\n",
       "    </tr>\n",
       "    <tr>\n",
       "      <th>2</th>\n",
       "      <td>1003</td>\n",
       "      <td>5.075174</td>\n",
       "    </tr>\n",
       "    <tr>\n",
       "      <th>3</th>\n",
       "      <td>1004</td>\n",
       "      <td>5.521461</td>\n",
       "    </tr>\n",
       "    <tr>\n",
       "      <th>4</th>\n",
       "      <td>1005</td>\n",
       "      <td>4.430817</td>\n",
       "    </tr>\n",
       "    <tr>\n",
       "      <th>...</th>\n",
       "      <td>...</td>\n",
       "      <td>...</td>\n",
       "    </tr>\n",
       "    <tr>\n",
       "      <th>95</th>\n",
       "      <td>1096</td>\n",
       "      <td>4.584967</td>\n",
       "    </tr>\n",
       "    <tr>\n",
       "      <th>96</th>\n",
       "      <td>1097</td>\n",
       "      <td>5.765191</td>\n",
       "    </tr>\n",
       "    <tr>\n",
       "      <th>97</th>\n",
       "      <td>1098</td>\n",
       "      <td>5.726848</td>\n",
       "    </tr>\n",
       "    <tr>\n",
       "      <th>98</th>\n",
       "      <td>1099</td>\n",
       "      <td>5.811141</td>\n",
       "    </tr>\n",
       "    <tr>\n",
       "      <th>99</th>\n",
       "      <td>1100</td>\n",
       "      <td>5.105945</td>\n",
       "    </tr>\n",
       "  </tbody>\n",
       "</table>\n",
       "<p>99 rows × 2 columns</p>\n",
       "</div>"
      ],
      "text/plain": [
       "      id  log_price\n",
       "0   1001   4.962845\n",
       "1   1002   3.465736\n",
       "2   1003   5.075174\n",
       "3   1004   5.521461\n",
       "4   1005   4.430817\n",
       "..   ...        ...\n",
       "95  1096   4.584967\n",
       "96  1097   5.765191\n",
       "97  1098   5.726848\n",
       "98  1099   5.811141\n",
       "99  1100   5.105945\n",
       "\n",
       "[99 rows x 2 columns]"
      ]
     },
     "metadata": {},
     "output_type": "display_data"
    }
   ],
   "source": [
    "# Create a new column 'log_price' that contains the natural logarithm of 'price'\n",
    "df['log_price'] = df['price'].apply(lambda x: np.log1p(x))\n",
    "df = df.drop(['price'], axis=1)\n",
    "display(df[['id', 'log_price']])"
   ]
  },
  {
   "cell_type": "code",
   "execution_count": 38,
   "metadata": {},
   "outputs": [
    {
     "name": "stdout",
     "output_type": "stream",
     "text": [
      "98\n"
     ]
    },
    {
     "data": {
      "application/vnd.microsoft.datawrangler.viewer.v0+json": {
       "columns": [
        {
         "name": "index",
         "rawType": "int64",
         "type": "integer"
        },
        {
         "name": "id",
         "rawType": "int64",
         "type": "integer"
        },
        {
         "name": "neighbourhood_group",
         "rawType": "object",
         "type": "string"
        },
        {
         "name": "room_type",
         "rawType": "object",
         "type": "string"
        },
        {
         "name": "minimum_nights",
         "rawType": "int64",
         "type": "integer"
        },
        {
         "name": "number_of_reviews",
         "rawType": "int64",
         "type": "integer"
        },
        {
         "name": "last_review",
         "rawType": "int64",
         "type": "integer"
        },
        {
         "name": "reviews_per_month",
         "rawType": "float64",
         "type": "float"
        },
        {
         "name": "has_wifi",
         "rawType": "int64",
         "type": "integer"
        },
        {
         "name": "log_price",
         "rawType": "float64",
         "type": "float"
        },
        {
         "name": "reviews_x_freq",
         "rawType": "float64",
         "type": "float"
        }
       ],
       "ref": "6ca681ab-1ec9-4109-a140-5f0fe0ec2542",
       "rows": [
        [
         "0",
         "1001",
         "Manhattan",
         "shared room",
         "3",
         "64",
         "1669420800",
         "1.71",
         "0",
         "4.962844630259907",
         "109.44"
        ],
        [
         "1",
         "1002",
         "Brooklyn",
         "entire home/apt",
         "17",
         "7",
         "1647302400",
         "1.55",
         "1",
         "3.4657359027997265",
         "10.85"
        ],
        [
         "2",
         "1003",
         "Manhattan",
         "private room",
         "1",
         "143",
         "1650931200",
         "3.13",
         "0",
         "5.075173815233827",
         "447.59"
        ],
        [
         "3",
         "1004",
         "Brooklyn",
         "entire home/apt",
         "16",
         "141",
         "1658793600",
         "1.43",
         "0",
         "5.521460917862246",
         "201.63"
        ],
        [
         "4",
         "1005",
         "Queens",
         "shared room",
         "12",
         "114",
         "1640649600",
         "3.73",
         "0",
         "4.430816798843313",
         "425.21999999999997"
        ],
        [
         "5",
         "1006",
         "Manhattan",
         "shared room",
         "27",
         "142",
         "1635379200",
         "3.45",
         "0",
         "5.017279836814924",
         "489.90000000000003"
        ],
        [
         "6",
         "1007",
         "Queens",
         "private room",
         "19",
         "91",
         "1663286400",
         "1.77",
         "0",
         "5.537334267018537",
         "161.07"
        ],
        [
         "7",
         "1008",
         "Queens",
         "entire home/apt",
         "22",
         "97",
         "1666310400",
         "3.03",
         "0",
         "5.541263545158426",
         "293.90999999999997"
        ],
        [
         "8",
         "1009",
         "Queens",
         "shared room",
         "23",
         "65",
         "1624838400",
         "3.04",
         "0",
         "5.049856007249537",
         "197.6"
        ],
        [
         "9",
         "1010",
         "Staten Island",
         "private room",
         "22",
         "31",
         "1657411200",
         "0.5",
         "0",
         "5.075173815233827",
         "15.5"
        ],
        [
         "10",
         "1011",
         "Bronx",
         "shared room",
         "14",
         "190",
         "1686268800",
         "3.62",
         "0",
         "4.61512051684126",
         "687.8000000000001"
        ],
        [
         "12",
         "1013",
         "Staten Island",
         "entire home/apt",
         "6",
         "50",
         "1643155200",
         "3.32",
         "0",
         "5.5134287461649825",
         "166.0"
        ],
        [
         "13",
         "1014",
         "Brooklyn",
         "shared room",
         "13",
         "152",
         "1622764800",
         "1.35",
         "1",
         "5.247024072160486",
         "205.20000000000002"
        ],
        [
         "14",
         "1015",
         "Bronx",
         "entire home/apt",
         "19",
         "185",
         "1615939200",
         "3.59",
         "1",
         "5.429345628954441",
         "664.15"
        ],
        [
         "15",
         "1016",
         "Brooklyn",
         "shared room",
         "22",
         "62",
         "1679616000",
         "1.62",
         "0",
         "5.6240175061873385",
         "100.44000000000001"
        ],
        [
         "16",
         "1017",
         "Bronx",
         "private room",
         "8",
         "189",
         "1618963200",
         "0.14",
         "0",
         "5.869296913133774",
         "26.46"
        ],
        [
         "17",
         "1018",
         "Staten Island",
         "shared room",
         "27",
         "124",
         "1672704000",
         "3.63",
         "1",
         "5.4510384535657",
         "450.12"
        ],
        [
         "18",
         "1019",
         "Manhattan",
         "entire home/apt",
         "27",
         "149",
         "1668988800",
         "0.46",
         "0",
         "5.365976015021851",
         "68.54"
        ],
        [
         "19",
         "1020",
         "Bronx",
         "entire home/apt",
         "2",
         "57",
         "1609977600",
         "1.35",
         "1",
         "5.030437921392435",
         "76.95"
        ],
        [
         "20",
         "1021",
         "Brooklyn",
         "private room",
         "21",
         "57",
         "1642161600",
         "3.81",
         "1",
         "5.652489180268651",
         "217.17000000000002"
        ],
        [
         "21",
         "1022",
         "Staten Island",
         "shared room",
         "1",
         "85",
         "1642161600",
         "3.81",
         "1",
         "5.780743515792329",
         "323.85"
        ],
        [
         "22",
         "1023",
         "Bronx",
         "shared room",
         "28",
         "48",
         "1642161600",
         "2.34",
         "1",
         "5.736572297479192",
         "112.32"
        ],
        [
         "23",
         "1024",
         "Manhattan",
         "private room",
         "15",
         "179",
         "1635724800",
         "2.56",
         "1",
         "5.872117789475416",
         "458.24"
        ],
        [
         "24",
         "1025",
         "Manhattan",
         "shared room",
         "1",
         "169",
         "1621814400",
         "1.85",
         "0",
         "4.852030263919617",
         "312.65000000000003"
        ],
        [
         "25",
         "1026",
         "Queens",
         "shared room",
         "5",
         "69",
         "1660176000",
         "1.24",
         "1",
         "5.429345628954441",
         "85.56"
        ],
        [
         "26",
         "1027",
         "Queens",
         "entire home/apt",
         "28",
         "14",
         "1643673600",
         "1.38",
         "0",
         "5.598421958998375",
         "19.32"
        ],
        [
         "27",
         "1028",
         "Brooklyn",
         "shared room",
         "29",
         "53",
         "1686873600",
         "2.72",
         "0",
         "5.159055299214529",
         "144.16"
        ],
        [
         "28",
         "1029",
         "Bronx",
         "shared room",
         "16",
         "187",
         "1619827200",
         "3.03",
         "1",
         "4.844187086458591",
         "566.61"
        ],
        [
         "29",
         "1030",
         "Bronx",
         "private room",
         "19",
         "100",
         "1659225600",
         "3.19",
         "1",
         "5.442417710521793",
         "319.0"
        ],
        [
         "31",
         "1032",
         "Bronx",
         "entire home/apt",
         "3",
         "52",
         "1665964800",
         "0.46",
         "1",
         "5.37989735354046",
         "23.92"
        ],
        [
         "32",
         "1033",
         "Bronx",
         "shared room",
         "17",
         "59",
         "1645315200",
         "2.03",
         "1",
         "5.87493073085203",
         "119.76999999999998"
        ],
        [
         "33",
         "1034",
         "Manhattan",
         "shared room",
         "17",
         "107",
         "1602892800",
         "0.32",
         "0",
         "5.937536205082426",
         "34.24"
        ],
        [
         "34",
         "1035",
         "Queens",
         "shared room",
         "12",
         "4",
         "1610841600",
         "2.24",
         "0",
         "5.666426688112432",
         "8.96"
        ],
        [
         "35",
         "1036",
         "Staten Island",
         "entire home/apt",
         "28",
         "102",
         "1674432000",
         "1.82",
         "1",
         "5.181783550292085",
         "185.64000000000001"
        ],
        [
         "36",
         "1037",
         "Queens",
         "entire home/apt",
         "29",
         "195",
         "1647216000",
         "3.56",
         "0",
         "5.641907070938114",
         "694.2"
        ],
        [
         "37",
         "1038",
         "Staten Island",
         "private room",
         "14",
         "5",
         "1614643200",
         "1.47",
         "1",
         "5.929589143389895",
         "7.35"
        ],
        [
         "38",
         "1039",
         "Manhattan",
         "entire home/apt",
         "21",
         "108",
         "1630886400",
         "0.56",
         "1",
         "5.176149732573829",
         "60.480000000000004"
        ],
        [
         "39",
         "1040",
         "Brooklyn",
         "shared room",
         "6",
         "115",
         "1609804800",
         "0.66",
         "1",
         "5.181783550292085",
         "75.9"
        ],
        [
         "40",
         "1041",
         "Bronx",
         "shared room",
         "3",
         "93",
         "1628640000",
         "3.07",
         "0",
         "5.945420608606575",
         "285.51"
        ],
        [
         "41",
         "1042",
         "Manhattan",
         "entire home/apt",
         "28",
         "46",
         "1629936000",
         "2.51",
         "0",
         "5.43372200355424",
         "115.46"
        ],
        [
         "42",
         "1043",
         "Bronx",
         "shared room",
         "9",
         "98",
         "1655424000",
         "0.49",
         "0",
         "5.823045895483019",
         "48.019999999999996"
        ],
        [
         "43",
         "1044",
         "Brooklyn",
         "shared room",
         "5",
         "54",
         "1641168000",
         "0.43",
         "0",
         "5.062595033026967",
         "23.22"
        ],
        [
         "44",
         "1045",
         "Brooklyn",
         "entire home/apt",
         "24",
         "167",
         "1607990400",
         "2.83",
         "0",
         "4.23410650459726",
         "472.61"
        ],
        [
         "45",
         "1046",
         "Manhattan",
         "entire home/apt",
         "29",
         "51",
         "1605571200",
         "0.38",
         "1",
         "5.908082938168931",
         "19.38"
        ],
        [
         "46",
         "1047",
         "Brooklyn",
         "shared room",
         "17",
         "143",
         "1628553600",
         "3.31",
         "1",
         "5.966146739123692",
         "473.33"
        ],
        [
         "47",
         "1048",
         "Staten Island",
         "shared room",
         "14",
         "12",
         "1651363200",
         "2.85",
         "1",
         "5.0689042022202315",
         "34.2"
        ],
        [
         "48",
         "1049",
         "Brooklyn",
         "shared room",
         "21",
         "113",
         "1635292800",
         "0.42",
         "1",
         "5.6937321388027",
         "47.46"
        ],
        [
         "49",
         "1050",
         "Bronx",
         "private room",
         "3",
         "123",
         "1665100800",
         "0.43",
         "0",
         "5.198497031265826",
         "52.89"
        ],
        [
         "50",
         "1051",
         "Bronx",
         "private room",
         "28",
         "105",
         "1616112000",
         "3.95",
         "1",
         "5.793013608384144",
         "414.75"
        ],
        [
         "51",
         "1052",
         "Bronx",
         "private room",
         "1",
         "157",
         "1638403200",
         "1.56",
         "0",
         "4.859812404361672",
         "244.92000000000002"
        ]
       ],
       "shape": {
        "columns": 10,
        "rows": 98
       }
      },
      "text/html": [
       "<div>\n",
       "<style scoped>\n",
       "    .dataframe tbody tr th:only-of-type {\n",
       "        vertical-align: middle;\n",
       "    }\n",
       "\n",
       "    .dataframe tbody tr th {\n",
       "        vertical-align: top;\n",
       "    }\n",
       "\n",
       "    .dataframe thead th {\n",
       "        text-align: right;\n",
       "    }\n",
       "</style>\n",
       "<table border=\"1\" class=\"dataframe\">\n",
       "  <thead>\n",
       "    <tr style=\"text-align: right;\">\n",
       "      <th></th>\n",
       "      <th>id</th>\n",
       "      <th>neighbourhood_group</th>\n",
       "      <th>room_type</th>\n",
       "      <th>minimum_nights</th>\n",
       "      <th>number_of_reviews</th>\n",
       "      <th>last_review</th>\n",
       "      <th>reviews_per_month</th>\n",
       "      <th>has_wifi</th>\n",
       "      <th>log_price</th>\n",
       "      <th>reviews_x_freq</th>\n",
       "    </tr>\n",
       "  </thead>\n",
       "  <tbody>\n",
       "    <tr>\n",
       "      <th>0</th>\n",
       "      <td>1001</td>\n",
       "      <td>Manhattan</td>\n",
       "      <td>shared room</td>\n",
       "      <td>3</td>\n",
       "      <td>64</td>\n",
       "      <td>1669420800</td>\n",
       "      <td>1.71</td>\n",
       "      <td>0</td>\n",
       "      <td>4.962845</td>\n",
       "      <td>109.44</td>\n",
       "    </tr>\n",
       "    <tr>\n",
       "      <th>1</th>\n",
       "      <td>1002</td>\n",
       "      <td>Brooklyn</td>\n",
       "      <td>entire home/apt</td>\n",
       "      <td>17</td>\n",
       "      <td>7</td>\n",
       "      <td>1647302400</td>\n",
       "      <td>1.55</td>\n",
       "      <td>1</td>\n",
       "      <td>3.465736</td>\n",
       "      <td>10.85</td>\n",
       "    </tr>\n",
       "    <tr>\n",
       "      <th>2</th>\n",
       "      <td>1003</td>\n",
       "      <td>Manhattan</td>\n",
       "      <td>private room</td>\n",
       "      <td>1</td>\n",
       "      <td>143</td>\n",
       "      <td>1650931200</td>\n",
       "      <td>3.13</td>\n",
       "      <td>0</td>\n",
       "      <td>5.075174</td>\n",
       "      <td>447.59</td>\n",
       "    </tr>\n",
       "    <tr>\n",
       "      <th>3</th>\n",
       "      <td>1004</td>\n",
       "      <td>Brooklyn</td>\n",
       "      <td>entire home/apt</td>\n",
       "      <td>16</td>\n",
       "      <td>141</td>\n",
       "      <td>1658793600</td>\n",
       "      <td>1.43</td>\n",
       "      <td>0</td>\n",
       "      <td>5.521461</td>\n",
       "      <td>201.63</td>\n",
       "    </tr>\n",
       "    <tr>\n",
       "      <th>4</th>\n",
       "      <td>1005</td>\n",
       "      <td>Queens</td>\n",
       "      <td>shared room</td>\n",
       "      <td>12</td>\n",
       "      <td>114</td>\n",
       "      <td>1640649600</td>\n",
       "      <td>3.73</td>\n",
       "      <td>0</td>\n",
       "      <td>4.430817</td>\n",
       "      <td>425.22</td>\n",
       "    </tr>\n",
       "    <tr>\n",
       "      <th>...</th>\n",
       "      <td>...</td>\n",
       "      <td>...</td>\n",
       "      <td>...</td>\n",
       "      <td>...</td>\n",
       "      <td>...</td>\n",
       "      <td>...</td>\n",
       "      <td>...</td>\n",
       "      <td>...</td>\n",
       "      <td>...</td>\n",
       "      <td>...</td>\n",
       "    </tr>\n",
       "    <tr>\n",
       "      <th>95</th>\n",
       "      <td>1096</td>\n",
       "      <td>Queens</td>\n",
       "      <td>entire home/apt</td>\n",
       "      <td>7</td>\n",
       "      <td>46</td>\n",
       "      <td>1608768000</td>\n",
       "      <td>0.28</td>\n",
       "      <td>1</td>\n",
       "      <td>4.584967</td>\n",
       "      <td>12.88</td>\n",
       "    </tr>\n",
       "    <tr>\n",
       "      <th>96</th>\n",
       "      <td>1097</td>\n",
       "      <td>Staten Island</td>\n",
       "      <td>entire home/apt</td>\n",
       "      <td>25</td>\n",
       "      <td>93</td>\n",
       "      <td>1671667200</td>\n",
       "      <td>1.20</td>\n",
       "      <td>0</td>\n",
       "      <td>5.765191</td>\n",
       "      <td>111.60</td>\n",
       "    </tr>\n",
       "    <tr>\n",
       "      <th>97</th>\n",
       "      <td>1098</td>\n",
       "      <td>Brooklyn</td>\n",
       "      <td>entire home/apt</td>\n",
       "      <td>4</td>\n",
       "      <td>189</td>\n",
       "      <td>1624406400</td>\n",
       "      <td>3.81</td>\n",
       "      <td>1</td>\n",
       "      <td>5.726848</td>\n",
       "      <td>720.09</td>\n",
       "    </tr>\n",
       "    <tr>\n",
       "      <th>98</th>\n",
       "      <td>1099</td>\n",
       "      <td>Brooklyn</td>\n",
       "      <td>entire home/apt</td>\n",
       "      <td>13</td>\n",
       "      <td>196</td>\n",
       "      <td>1628726400</td>\n",
       "      <td>3.57</td>\n",
       "      <td>1</td>\n",
       "      <td>5.811141</td>\n",
       "      <td>699.72</td>\n",
       "    </tr>\n",
       "    <tr>\n",
       "      <th>99</th>\n",
       "      <td>1100</td>\n",
       "      <td>Manhattan</td>\n",
       "      <td>shared room</td>\n",
       "      <td>20</td>\n",
       "      <td>143</td>\n",
       "      <td>1679702400</td>\n",
       "      <td>1.88</td>\n",
       "      <td>1</td>\n",
       "      <td>5.105945</td>\n",
       "      <td>268.84</td>\n",
       "    </tr>\n",
       "  </tbody>\n",
       "</table>\n",
       "<p>98 rows × 10 columns</p>\n",
       "</div>"
      ],
      "text/plain": [
       "      id neighbourhood_group        room_type  minimum_nights  \\\n",
       "0   1001           Manhattan      shared room               3   \n",
       "1   1002            Brooklyn  entire home/apt              17   \n",
       "2   1003           Manhattan     private room               1   \n",
       "3   1004            Brooklyn  entire home/apt              16   \n",
       "4   1005              Queens      shared room              12   \n",
       "..   ...                 ...              ...             ...   \n",
       "95  1096              Queens  entire home/apt               7   \n",
       "96  1097       Staten Island  entire home/apt              25   \n",
       "97  1098            Brooklyn  entire home/apt               4   \n",
       "98  1099            Brooklyn  entire home/apt              13   \n",
       "99  1100           Manhattan      shared room              20   \n",
       "\n",
       "    number_of_reviews  last_review  reviews_per_month  has_wifi  log_price  \\\n",
       "0                  64   1669420800               1.71         0   4.962845   \n",
       "1                   7   1647302400               1.55         1   3.465736   \n",
       "2                 143   1650931200               3.13         0   5.075174   \n",
       "3                 141   1658793600               1.43         0   5.521461   \n",
       "4                 114   1640649600               3.73         0   4.430817   \n",
       "..                ...          ...                ...       ...        ...   \n",
       "95                 46   1608768000               0.28         1   4.584967   \n",
       "96                 93   1671667200               1.20         0   5.765191   \n",
       "97                189   1624406400               3.81         1   5.726848   \n",
       "98                196   1628726400               3.57         1   5.811141   \n",
       "99                143   1679702400               1.88         1   5.105945   \n",
       "\n",
       "    reviews_x_freq  \n",
       "0           109.44  \n",
       "1            10.85  \n",
       "2           447.59  \n",
       "3           201.63  \n",
       "4           425.22  \n",
       "..             ...  \n",
       "95           12.88  \n",
       "96          111.60  \n",
       "97          720.09  \n",
       "98          699.72  \n",
       "99          268.84  \n",
       "\n",
       "[98 rows x 10 columns]"
      ]
     },
     "metadata": {},
     "output_type": "display_data"
    }
   ],
   "source": [
    "# Convert reviews_per_month to numeric, coerce errors, then drop NaN values\n",
    "df['reviews_per_month'] = pd.to_numeric(df['reviews_per_month'], errors='coerce').copy()\n",
    "df = df.dropna(subset=['reviews_per_month'])\n",
    "print(len(df['reviews_per_month']))\n",
    "\n",
    "# create interaction feature. `reviews_x_freq`\n",
    "df['reviews_x_freq'] = df['number_of_reviews'] * df['reviews_per_month']\n",
    "\n",
    "display(df)"
   ]
  },
  {
   "cell_type": "code",
   "execution_count": 39,
   "metadata": {},
   "outputs": [
    {
     "data": {
      "application/vnd.microsoft.datawrangler.viewer.v0+json": {
       "columns": [
        {
         "name": "index",
         "rawType": "int64",
         "type": "integer"
        },
        {
         "name": "id",
         "rawType": "int64",
         "type": "integer"
        },
        {
         "name": "has_wifi",
         "rawType": "int64",
         "type": "integer"
        }
       ],
       "ref": "d1450fdf-e202-4ed5-a991-b597f5654638",
       "rows": [
        [
         "0",
         "1001",
         "0"
        ],
        [
         "1",
         "1002",
         "1"
        ],
        [
         "2",
         "1003",
         "0"
        ],
        [
         "3",
         "1004",
         "0"
        ],
        [
         "4",
         "1005",
         "0"
        ],
        [
         "5",
         "1006",
         "0"
        ],
        [
         "6",
         "1007",
         "0"
        ],
        [
         "7",
         "1008",
         "0"
        ],
        [
         "8",
         "1009",
         "0"
        ],
        [
         "9",
         "1010",
         "0"
        ],
        [
         "10",
         "1011",
         "0"
        ],
        [
         "12",
         "1013",
         "0"
        ],
        [
         "13",
         "1014",
         "1"
        ],
        [
         "14",
         "1015",
         "1"
        ],
        [
         "15",
         "1016",
         "0"
        ],
        [
         "16",
         "1017",
         "0"
        ],
        [
         "17",
         "1018",
         "1"
        ],
        [
         "18",
         "1019",
         "0"
        ],
        [
         "19",
         "1020",
         "1"
        ],
        [
         "20",
         "1021",
         "1"
        ],
        [
         "21",
         "1022",
         "1"
        ],
        [
         "22",
         "1023",
         "1"
        ],
        [
         "23",
         "1024",
         "1"
        ],
        [
         "24",
         "1025",
         "0"
        ],
        [
         "25",
         "1026",
         "1"
        ],
        [
         "26",
         "1027",
         "0"
        ],
        [
         "27",
         "1028",
         "0"
        ],
        [
         "28",
         "1029",
         "1"
        ],
        [
         "29",
         "1030",
         "1"
        ],
        [
         "31",
         "1032",
         "1"
        ],
        [
         "32",
         "1033",
         "1"
        ],
        [
         "33",
         "1034",
         "0"
        ],
        [
         "34",
         "1035",
         "0"
        ],
        [
         "35",
         "1036",
         "1"
        ],
        [
         "36",
         "1037",
         "0"
        ],
        [
         "37",
         "1038",
         "1"
        ],
        [
         "38",
         "1039",
         "1"
        ],
        [
         "39",
         "1040",
         "1"
        ],
        [
         "40",
         "1041",
         "0"
        ],
        [
         "41",
         "1042",
         "0"
        ],
        [
         "42",
         "1043",
         "0"
        ],
        [
         "43",
         "1044",
         "0"
        ],
        [
         "44",
         "1045",
         "0"
        ],
        [
         "45",
         "1046",
         "1"
        ],
        [
         "46",
         "1047",
         "1"
        ],
        [
         "47",
         "1048",
         "1"
        ],
        [
         "48",
         "1049",
         "1"
        ],
        [
         "49",
         "1050",
         "0"
        ],
        [
         "50",
         "1051",
         "1"
        ],
        [
         "51",
         "1052",
         "0"
        ]
       ],
       "shape": {
        "columns": 2,
        "rows": 98
       }
      },
      "text/html": [
       "<div>\n",
       "<style scoped>\n",
       "    .dataframe tbody tr th:only-of-type {\n",
       "        vertical-align: middle;\n",
       "    }\n",
       "\n",
       "    .dataframe tbody tr th {\n",
       "        vertical-align: top;\n",
       "    }\n",
       "\n",
       "    .dataframe thead th {\n",
       "        text-align: right;\n",
       "    }\n",
       "</style>\n",
       "<table border=\"1\" class=\"dataframe\">\n",
       "  <thead>\n",
       "    <tr style=\"text-align: right;\">\n",
       "      <th></th>\n",
       "      <th>id</th>\n",
       "      <th>has_wifi</th>\n",
       "    </tr>\n",
       "  </thead>\n",
       "  <tbody>\n",
       "    <tr>\n",
       "      <th>0</th>\n",
       "      <td>1001</td>\n",
       "      <td>0</td>\n",
       "    </tr>\n",
       "    <tr>\n",
       "      <th>1</th>\n",
       "      <td>1002</td>\n",
       "      <td>1</td>\n",
       "    </tr>\n",
       "    <tr>\n",
       "      <th>2</th>\n",
       "      <td>1003</td>\n",
       "      <td>0</td>\n",
       "    </tr>\n",
       "    <tr>\n",
       "      <th>3</th>\n",
       "      <td>1004</td>\n",
       "      <td>0</td>\n",
       "    </tr>\n",
       "    <tr>\n",
       "      <th>4</th>\n",
       "      <td>1005</td>\n",
       "      <td>0</td>\n",
       "    </tr>\n",
       "    <tr>\n",
       "      <th>...</th>\n",
       "      <td>...</td>\n",
       "      <td>...</td>\n",
       "    </tr>\n",
       "    <tr>\n",
       "      <th>95</th>\n",
       "      <td>1096</td>\n",
       "      <td>1</td>\n",
       "    </tr>\n",
       "    <tr>\n",
       "      <th>96</th>\n",
       "      <td>1097</td>\n",
       "      <td>0</td>\n",
       "    </tr>\n",
       "    <tr>\n",
       "      <th>97</th>\n",
       "      <td>1098</td>\n",
       "      <td>1</td>\n",
       "    </tr>\n",
       "    <tr>\n",
       "      <th>98</th>\n",
       "      <td>1099</td>\n",
       "      <td>1</td>\n",
       "    </tr>\n",
       "    <tr>\n",
       "      <th>99</th>\n",
       "      <td>1100</td>\n",
       "      <td>1</td>\n",
       "    </tr>\n",
       "  </tbody>\n",
       "</table>\n",
       "<p>98 rows × 2 columns</p>\n",
       "</div>"
      ],
      "text/plain": [
       "      id  has_wifi\n",
       "0   1001         0\n",
       "1   1002         1\n",
       "2   1003         0\n",
       "3   1004         0\n",
       "4   1005         0\n",
       "..   ...       ...\n",
       "95  1096         1\n",
       "96  1097         0\n",
       "97  1098         1\n",
       "98  1099         1\n",
       "99  1100         1\n",
       "\n",
       "[98 rows x 2 columns]"
      ]
     },
     "metadata": {},
     "output_type": "display_data"
    }
   ],
   "source": [
    "# Convert 'has_wifi' to a binary integer column\n",
    "df['has_wifi'] = df['has_wifi'].astype(str).str.lower().isin(['true', 't', '1']).astype(int)\n",
    "display(df[['id', 'has_wifi']])"
   ]
  },
  {
   "cell_type": "markdown",
   "metadata": {
    "id": "8sBVW14YYo2_"
   },
   "source": [
    "## ✂️ Part D: Train/Test Split\n",
    "\n",
    "Use `train_test_split` to divide your data:\n",
    "- 80% training\n",
    "- 20% testing\n",
    "\n",
    "Select relevant features for modeling (no ID, name, or original price)."
   ]
  },
  {
   "cell_type": "code",
   "execution_count": 40,
   "metadata": {},
   "outputs": [
    {
     "data": {
      "text/plain": [
       "\"Numerical features: ['minimum_nights', 'number_of_reviews', 'last_review', 'reviews_per_month', 'has_wifi', 'reviews_x_freq']\""
      ]
     },
     "metadata": {},
     "output_type": "display_data"
    },
    {
     "data": {
      "text/plain": [
       "\"Categorical features: ['neighbourhood_group', 'room_type']\""
      ]
     },
     "metadata": {},
     "output_type": "display_data"
    }
   ],
   "source": [
    "\t# Handle categorical features within the loop for each feature set\n",
    "X = df.drop(columns=['id', 'log_price']).copy()\n",
    "feature_set = X.columns.tolist()\n",
    "\n",
    "# Identify categorical and numerical features for the current set\n",
    "numerical_features = [column for column in X.columns if np.issubdtype(X[column].dtype, np.number)]\n",
    "# Identify categorical features.\n",
    "categorical_features = [column for column in X.columns if X[column].dtype in ['object', 'category']]\n",
    "display(f\"Numerical features: {numerical_features}\")\n",
    "display(f\"Categorical features: {categorical_features}\")\n",
    "\n",
    "\n",
    "\n",
    "# Create the column transformer for one-hot encoding\n",
    "preprocessor = ColumnTransformer(\n",
    "\t\ttransformers=[\n",
    "\t\t\t\t('num', 'passthrough', numerical_features),\n",
    "\t\t\t\t('cat', OneHotEncoder(handle_unknown='error'), categorical_features)])\n",
    "\n",
    "model = Pipeline(steps=[('preprocessor', preprocessor),\n",
    "\t\t\t\t\t\t\t\t\t\t\t\t# ('scaler', MinMaxScaler()),\n",
    "\t\t\t\t\t\t\t\t\t\t\t\t('regressor', LinearRegression())])\n",
    "y = df['log_price']\n",
    "\n",
    "# Split the data into training and testing sets\n",
    "X_train, X_test, y_train, y_test = train_test_split(X, y, test_size=0.2, random_state=42)"
   ]
  },
  {
   "cell_type": "markdown",
   "metadata": {
    "id": "p50g5xHFYo2_"
   },
   "source": [
    "## 📈 Part E: Linear Regression Modeling\n",
    "\n",
    "1. Train a `LinearRegression` model to predict `log_price`\n",
    "2. Evaluate it on both train and test sets using:\n",
    "   - RMSE (Root Mean Squared Error)\n",
    "   - R² (coefficient of determination)\n",
    "3. Print model coefficients\n",
    "4. Interpret: Which features have the strongest impact?"
   ]
  },
  {
   "cell_type": "code",
   "execution_count": 41,
   "metadata": {},
   "outputs": [
    {
     "data": {
      "text/plain": [
       "'R2 score: -0.0128'"
      ]
     },
     "metadata": {},
     "output_type": "display_data"
    },
    {
     "data": {
      "text/plain": [
       "'RMSE: 0.4932'"
      ]
     },
     "metadata": {},
     "output_type": "display_data"
    }
   ],
   "source": [
    "# Create the model pipeline\n",
    "# Add a normalizer\n",
    "\n",
    "# Train the model using the training data\n",
    "model.fit(X_train, y_train)\n",
    "# Make predictions on the test data\n",
    "y_pred = model.predict(X_test)\n",
    "# Calculate R2 score\n",
    "r2 = r2_score(y_test, y_pred)\n",
    "display(f\"R2 score: {r2:.4f}\")\n",
    "display(f\"RMSE: {root_mean_squared_error(y_test, y_pred):.4f}\")\n"
   ]
  },
  {
   "cell_type": "code",
   "execution_count": 42,
   "metadata": {},
   "outputs": [
    {
     "name": "stdout",
     "output_type": "stream",
     "text": [
      "Fixed features shape: (98, 8)\n",
      "Remaining features: ['neighbourhood_group', 'room_type', 'minimum_nights', 'number_of_reviews', 'last_review', 'reviews_per_month', 'has_wifi', 'reviews_x_freq']\n",
      "Days since last review - Min: 786.7, Max: 1762.7\n",
      "Updated numerical features: ['minimum_nights', 'number_of_reviews', 'last_review', 'reviews_per_month', 'has_wifi', 'reviews_x_freq', 'days_since_last_review']\n",
      "Updated categorical features: ['neighbourhood_group', 'room_type']\n"
     ]
    }
   ],
   "source": [
    "\n",
    "print(f\"Fixed features shape: {X.shape}\")\n",
    "print(f\"Remaining features: {X.columns.tolist()}\")\n",
    "\n",
    "# Add days_since_last_review feature\n",
    "current_timestamp = int(time.time())\n",
    "df['days_since_last_review'] = (current_timestamp - df['last_review']) / 86400  # Convert seconds to days\n",
    "\n",
    "print(f\"Days since last review - Min: {df['days_since_last_review'].min():.1f}, Max: {df['days_since_last_review'].max():.1f}\")\n",
    "\n",
    "# Update feature sets after adding new feature\n",
    "X = df.drop(columns=['log_price', 'id']).copy()\n",
    "numerical_features = [column for column in X.columns if np.issubdtype(X[column].dtype, np.number)]\n",
    "categorical_features = [column for column in X.columns if X[column].dtype in ['object', 'category']]\n",
    "\n",
    "print(f\"Updated numerical features: {numerical_features}\")\n",
    "print(f\"Updated categorical features: {categorical_features}\")"
   ]
  },
  {
   "cell_type": "code",
   "execution_count": 43,
   "metadata": {},
   "outputs": [
    {
     "name": "stdout",
     "output_type": "stream",
     "text": [
      "Mean CV RMSE: 0.5542\n",
      "Mean CV R-squared: -0.2861\n",
      "--- Test Set Performance ---\n",
      "Test RMSE: 0.4932\n",
      "Test R-squared: -0.0128\n"
     ]
    }
   ],
   "source": [
    "# Create the corrected preprocessor with updated feature lists\n",
    "preprocessor = ColumnTransformer(\n",
    "    transformers=[\n",
    "        ('num', 'passthrough', numerical_features),\n",
    "        ('cat', OneHotEncoder(handle_unknown='error'), categorical_features)\n",
    "    ]\n",
    ")\n",
    "\n",
    "# Create the corrected pipeline without MinMaxScaler\n",
    "pipeline = Pipeline(steps=[('preprocessor', preprocessor),\n",
    "                           ('regressor', LinearRegression())])\n",
    "\n",
    "y = df['log_price']\n",
    "\n",
    "# Split the data into training and testing sets with corrected X\n",
    "X_train, X_test, y_train, y_test = train_test_split(X, y, test_size=0.2, random_state=42)\n",
    "\n",
    "# Cross-validation for robust evaluation\n",
    "scoring = {\n",
    "    'RMSE': 'neg_root_mean_squared_error',\n",
    "    'R2': 'r2'\n",
    "}\n",
    "\n",
    "cv_results = cross_validate(pipeline, X_train, y_train, cv=5, scoring=scoring)\n",
    "\n",
    "# The RMSE scores are negative, so we multiply by -1 to make them positive\n",
    "mean_cv_rmse = -np.mean(cv_results['test_RMSE'])\n",
    "mean_cv_r2 = np.mean(cv_results['test_R2'])\n",
    "\n",
    "print(f\"Mean CV RMSE: {mean_cv_rmse:.4f}\")\n",
    "print(f\"Mean CV R-squared: {mean_cv_r2:.4f}\")\n",
    "\n",
    "# Fit the pipeline on the entire training set\n",
    "pipeline.fit(X_train, y_train)\n",
    "\n",
    "# Make predictions on the test set\n",
    "y_pred = pipeline.predict(X_test)\n",
    "\n",
    "# Calculate and print the performance metrics for the test set\n",
    "test_rmse = root_mean_squared_error(y_test, y_pred)\n",
    "test_r2 = r2_score(y_test, y_pred)\n",
    "\n",
    "print(\"--- Test Set Performance ---\")\n",
    "print(f\"Test RMSE: {test_rmse:.4f}\")\n",
    "print(f\"Test R-squared: {test_r2:.4f}\")"
   ]
  },
  {
   "cell_type": "code",
   "execution_count": 44,
   "metadata": {},
   "outputs": [
    {
     "name": "stdout",
     "output_type": "stream",
     "text": [
      "Feature Coefficients:\n"
     ]
    },
    {
     "data": {
      "application/vnd.microsoft.datawrangler.viewer.v0+json": {
       "columns": [
        {
         "name": "index",
         "rawType": "int64",
         "type": "integer"
        },
        {
         "name": "Feature",
         "rawType": "object",
         "type": "string"
        },
        {
         "name": "Coefficient",
         "rawType": "float64",
         "type": "float"
        }
       ],
       "ref": "a59b4cea-3b66-469c-b4ea-55d85149147e",
       "rows": [
        [
         "8",
         "neighbourhood_group_Brooklyn",
         "-0.2600659812728857"
        ],
        [
         "13",
         "room_type_private room",
         "0.12648788891325619"
        ],
        [
         "10",
         "neighbourhood_group_Queens",
         "0.09403271180986707"
        ],
        [
         "14",
         "room_type_shared room",
         "-0.09206012010809647"
        ],
        [
         "4",
         "has_wifi",
         "0.09126775389151183"
        ],
        [
         "11",
         "neighbourhood_group_Staten Island",
         "0.07955253829818376"
        ],
        [
         "3",
         "reviews_per_month",
         "0.06852951353630045"
        ],
        [
         "7",
         "neighbourhood_group_Bronx",
         "0.06074567228423751"
        ],
        [
         "12",
         "room_type_entire home/apt",
         "-0.0344277688051598"
        ],
        [
         "9",
         "neighbourhood_group_Manhattan",
         "0.025735058880597295"
        ],
        [
         "0",
         "minimum_nights",
         "0.008914422740316305"
        ],
        [
         "1",
         "number_of_reviews",
         "0.0018163393260937893"
        ],
        [
         "5",
         "reviews_x_freq",
         "-0.00035878241185457516"
        ],
        [
         "2",
         "last_review",
         "-1.0953096307796587e-09"
        ],
        [
         "6",
         "days_since_last_review",
         "1.2047314020754499e-14"
        ]
       ],
       "shape": {
        "columns": 2,
        "rows": 15
       }
      },
      "text/html": [
       "<div>\n",
       "<style scoped>\n",
       "    .dataframe tbody tr th:only-of-type {\n",
       "        vertical-align: middle;\n",
       "    }\n",
       "\n",
       "    .dataframe tbody tr th {\n",
       "        vertical-align: top;\n",
       "    }\n",
       "\n",
       "    .dataframe thead th {\n",
       "        text-align: right;\n",
       "    }\n",
       "</style>\n",
       "<table border=\"1\" class=\"dataframe\">\n",
       "  <thead>\n",
       "    <tr style=\"text-align: right;\">\n",
       "      <th></th>\n",
       "      <th>Feature</th>\n",
       "      <th>Coefficient</th>\n",
       "    </tr>\n",
       "  </thead>\n",
       "  <tbody>\n",
       "    <tr>\n",
       "      <th>8</th>\n",
       "      <td>neighbourhood_group_Brooklyn</td>\n",
       "      <td>-2.600660e-01</td>\n",
       "    </tr>\n",
       "    <tr>\n",
       "      <th>13</th>\n",
       "      <td>room_type_private room</td>\n",
       "      <td>1.264879e-01</td>\n",
       "    </tr>\n",
       "    <tr>\n",
       "      <th>10</th>\n",
       "      <td>neighbourhood_group_Queens</td>\n",
       "      <td>9.403271e-02</td>\n",
       "    </tr>\n",
       "    <tr>\n",
       "      <th>14</th>\n",
       "      <td>room_type_shared room</td>\n",
       "      <td>-9.206012e-02</td>\n",
       "    </tr>\n",
       "    <tr>\n",
       "      <th>4</th>\n",
       "      <td>has_wifi</td>\n",
       "      <td>9.126775e-02</td>\n",
       "    </tr>\n",
       "    <tr>\n",
       "      <th>11</th>\n",
       "      <td>neighbourhood_group_Staten Island</td>\n",
       "      <td>7.955254e-02</td>\n",
       "    </tr>\n",
       "    <tr>\n",
       "      <th>3</th>\n",
       "      <td>reviews_per_month</td>\n",
       "      <td>6.852951e-02</td>\n",
       "    </tr>\n",
       "    <tr>\n",
       "      <th>7</th>\n",
       "      <td>neighbourhood_group_Bronx</td>\n",
       "      <td>6.074567e-02</td>\n",
       "    </tr>\n",
       "    <tr>\n",
       "      <th>12</th>\n",
       "      <td>room_type_entire home/apt</td>\n",
       "      <td>-3.442777e-02</td>\n",
       "    </tr>\n",
       "    <tr>\n",
       "      <th>9</th>\n",
       "      <td>neighbourhood_group_Manhattan</td>\n",
       "      <td>2.573506e-02</td>\n",
       "    </tr>\n",
       "    <tr>\n",
       "      <th>0</th>\n",
       "      <td>minimum_nights</td>\n",
       "      <td>8.914423e-03</td>\n",
       "    </tr>\n",
       "    <tr>\n",
       "      <th>1</th>\n",
       "      <td>number_of_reviews</td>\n",
       "      <td>1.816339e-03</td>\n",
       "    </tr>\n",
       "    <tr>\n",
       "      <th>5</th>\n",
       "      <td>reviews_x_freq</td>\n",
       "      <td>-3.587824e-04</td>\n",
       "    </tr>\n",
       "    <tr>\n",
       "      <th>2</th>\n",
       "      <td>last_review</td>\n",
       "      <td>-1.095310e-09</td>\n",
       "    </tr>\n",
       "    <tr>\n",
       "      <th>6</th>\n",
       "      <td>days_since_last_review</td>\n",
       "      <td>1.204731e-14</td>\n",
       "    </tr>\n",
       "  </tbody>\n",
       "</table>\n",
       "</div>"
      ],
      "text/plain": [
       "                              Feature   Coefficient\n",
       "8        neighbourhood_group_Brooklyn -2.600660e-01\n",
       "13             room_type_private room  1.264879e-01\n",
       "10         neighbourhood_group_Queens  9.403271e-02\n",
       "14              room_type_shared room -9.206012e-02\n",
       "4                            has_wifi  9.126775e-02\n",
       "11  neighbourhood_group_Staten Island  7.955254e-02\n",
       "3                   reviews_per_month  6.852951e-02\n",
       "7           neighbourhood_group_Bronx  6.074567e-02\n",
       "12          room_type_entire home/apt -3.442777e-02\n",
       "9       neighbourhood_group_Manhattan  2.573506e-02\n",
       "0                      minimum_nights  8.914423e-03\n",
       "1                   number_of_reviews  1.816339e-03\n",
       "5                      reviews_x_freq -3.587824e-04\n",
       "2                         last_review -1.095310e-09\n",
       "6              days_since_last_review  1.204731e-14"
      ]
     },
     "metadata": {},
     "output_type": "display_data"
    }
   ],
   "source": [
    "# Feature Coefficient Analysis\n",
    "# Get the one-hot encoder from the pipeline's preprocessor step\n",
    "one_hot_encoder = pipeline.named_steps['preprocessor'].named_transformers_['cat']\n",
    "\n",
    "# Get the feature names after one-hot encoding\n",
    "encoded_feature_names = one_hot_encoder.get_feature_names_out(categorical_features)\n",
    "\n",
    "# Combine the original numerical feature names with the new encoded categorical names\n",
    "all_feature_names = numerical_features + list(encoded_feature_names)\n",
    "\n",
    "# Get the coefficients from the trained linear regression model\n",
    "coefficients = pipeline.named_steps['regressor'].coef_\n",
    "\n",
    "# Create a DataFrame to view the coefficients alongside their feature names\n",
    "coef_df = pd.DataFrame({'Feature': all_feature_names, 'Coefficient': coefficients})\n",
    "\n",
    "# Sort by the absolute value of coefficients to see which features have the most impact\n",
    "coef_df['Abs_Coefficient'] = coef_df['Coefficient'].abs()\n",
    "coef_df = coef_df.sort_values(by='Abs_Coefficient', ascending=False).drop(columns=['Abs_Coefficient'])\n",
    "\n",
    "print(\"Feature Coefficients:\")\n",
    "display(coef_df)"
   ]
  },
  {
   "cell_type": "markdown",
   "metadata": {},
   "source": [
    "## 🧠 Bonus (Optional)\n",
    "\n",
    "Try using `PolynomialFeatures` to add interaction terms between some variables.\n",
    "\n",
    "Does the model improve? Or overfit?\n"
   ]
  },
  {
   "cell_type": "code",
   "execution_count": 45,
   "metadata": {
    "id": "fgLUfgiFYo2_"
   },
   "outputs": [
    {
     "name": "stdout",
     "output_type": "stream",
     "text": [
      "=== BASELINE MODEL PERFORMANCE ===\n",
      "Baseline R²: -0.0128\n",
      "Baseline RMSE: 0.4932\n",
      "\n",
      "Numerical features for polynomial: ['minimum_nights', 'number_of_reviews', 'reviews_per_month', 'has_wifi', 'reviews_x_freq', 'days_since_last_review']\n",
      "Shape of numerical features: (98, 6)\n",
      "\n",
      "=== TRAINING POLYNOMIAL MODEL ===\n",
      "Polynomial R²: 0.1780\n",
      "Polynomial RMSE: 0.4443\n",
      "\n",
      "=== CROSS-VALIDATION COMPARISON ===\n",
      "Baseline CV R²: -0.2861\n",
      "Polynomial CV R²: -1.2982\n",
      "Improvement: -1.0121\n",
      "❌ NO IMPROVEMENT: Possible overfitting\n"
     ]
    }
   ],
   "source": [
    "# PolynomialFeatures Implementation\n",
    "from sklearn.preprocessing import PolynomialFeatures\n",
    "\n",
    "print(\"=== BASELINE MODEL PERFORMANCE ===\")\n",
    "print(f\"Baseline R²: {test_r2:.4f}\")\n",
    "print(f\"Baseline RMSE: {test_rmse:.4f}\")\n",
    "\n",
    "# Create polynomial features using only numerical features (avoiding categorical explosion)\n",
    "numerical_only = ['minimum_nights', 'number_of_reviews', 'reviews_per_month', 'has_wifi', 'reviews_x_freq', 'days_since_last_review']\n",
    "\n",
    "print(f\"\\nNumerical features for polynomial: {numerical_only}\")\n",
    "print(f\"Shape of numerical features: {X[numerical_only].shape}\")\n",
    "\n",
    "# Create polynomial pipeline with interaction terms only\n",
    "poly_preprocessor = ColumnTransformer(\n",
    "    transformers=[\n",
    "        ('poly', PolynomialFeatures(degree=2, interaction_only=True, include_bias=False), numerical_only),\n",
    "        ('cat', OneHotEncoder(handle_unknown='error'), categorical_features)\n",
    "    ]\n",
    ")\n",
    "\n",
    "polynomial_pipeline = Pipeline(steps=[\n",
    "    ('preprocessor', poly_preprocessor),\n",
    "    ('regressor', LinearRegression())\n",
    "])\n",
    "\n",
    "print(\"\\n=== TRAINING POLYNOMIAL MODEL ===\")\n",
    "polynomial_pipeline.fit(X_train, y_train)\n",
    "y_pred_poly = polynomial_pipeline.predict(X_test)\n",
    "\n",
    "# Calculate performance metrics\n",
    "poly_r2 = r2_score(y_test, y_pred_poly)\n",
    "poly_rmse = root_mean_squared_error(y_test, y_pred_poly)\n",
    "\n",
    "print(f\"Polynomial R²: {poly_r2:.4f}\")\n",
    "print(f\"Polynomial RMSE: {poly_rmse:.4f}\")\n",
    "\n",
    "# Cross-validation comparison\n",
    "scoring = {'RMSE': 'neg_root_mean_squared_error', 'R2': 'r2'}\n",
    "\n",
    "baseline_cv = cross_validate(pipeline, X_train, y_train, cv=5, scoring=scoring)\n",
    "poly_cv = cross_validate(polynomial_pipeline, X_train, y_train, cv=5, scoring=scoring)\n",
    "\n",
    "baseline_cv_r2 = np.mean(baseline_cv['test_R2'])\n",
    "poly_cv_r2 = np.mean(poly_cv['test_R2'])\n",
    "\n",
    "print(\"\\n=== CROSS-VALIDATION COMPARISON ===\")\n",
    "print(f\"Baseline CV R²: {baseline_cv_r2:.4f}\")\n",
    "print(f\"Polynomial CV R²: {poly_cv_r2:.4f}\")\n",
    "print(f\"Improvement: {poly_cv_r2 - baseline_cv_r2:.4f}\")\n",
    "\n",
    "if poly_cv_r2 - baseline_cv_r2 > 0.05:\n",
    "    print(\"✅ SIGNIFICANT IMPROVEMENT: Polynomial features help!\")\n",
    "elif poly_cv_r2 - baseline_cv_r2 > 0:\n",
    "    print(\"⚠️  MARGINAL IMPROVEMENT\")  \n",
    "else:\n",
    "    print(\"❌ NO IMPROVEMENT: Possible overfitting\")"
   ]
  },
  {
   "cell_type": "markdown",
   "metadata": {
    "id": "BOFrMch_Yo2_"
   },
   "source": [
    "## ✅ Submission Checklist\n",
    "- [ ] Notebook is clean and readable\n",
    "- [ ] You handled weird or dirty data\n",
    "- [ ] You performed EDA\n",
    "- [ ] You trained and evaluated a regression model\n",
    "- [ ] You wrote clear comments or markdown explanations"
   ]
  }
 ],
 "metadata": {
  "colab": {
   "provenance": []
  },
  "kernelspec": {
   "display_name": "workspace",
   "language": "python",
   "name": "python3"
  },
  "language_info": {
   "codemirror_mode": {
    "name": "ipython",
    "version": 3
   },
   "file_extension": ".py",
   "mimetype": "text/x-python",
   "name": "python",
   "nbconvert_exporter": "python",
   "pygments_lexer": "ipython3",
   "version": "3.11.13"
  }
 },
 "nbformat": 4,
 "nbformat_minor": 0
}
